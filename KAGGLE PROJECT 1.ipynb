{
 "cells": [
  {
   "cell_type": "code",
   "execution_count": 1,
   "id": "b6d7cd7a",
   "metadata": {},
   "outputs": [],
   "source": [
    "import numpy as np \n",
    "import pandas as pd\n",
    "import matplotlib.pyplot as plt\n",
    "import seaborn as sns\n",
    "import warnings\n",
    "warnings.simplefilter(\"ignore\")"
   ]
  },
  {
   "cell_type": "code",
   "execution_count": 2,
   "id": "50d57a3f",
   "metadata": {},
   "outputs": [
    {
     "data": {
      "text/html": [
       "<div>\n",
       "<style scoped>\n",
       "    .dataframe tbody tr th:only-of-type {\n",
       "        vertical-align: middle;\n",
       "    }\n",
       "\n",
       "    .dataframe tbody tr th {\n",
       "        vertical-align: top;\n",
       "    }\n",
       "\n",
       "    .dataframe thead th {\n",
       "        text-align: right;\n",
       "    }\n",
       "</style>\n",
       "<table border=\"1\" class=\"dataframe\">\n",
       "  <thead>\n",
       "    <tr style=\"text-align: right;\">\n",
       "      <th></th>\n",
       "      <th>id</th>\n",
       "      <th>Product ID</th>\n",
       "      <th>Type</th>\n",
       "      <th>Air temperature [K]</th>\n",
       "      <th>Process temperature [K]</th>\n",
       "      <th>Rotational speed [rpm]</th>\n",
       "      <th>Torque [Nm]</th>\n",
       "      <th>Tool wear [min]</th>\n",
       "      <th>Machine failure</th>\n",
       "      <th>TWF</th>\n",
       "      <th>HDF</th>\n",
       "      <th>PWF</th>\n",
       "      <th>OSF</th>\n",
       "      <th>RNF</th>\n",
       "    </tr>\n",
       "  </thead>\n",
       "  <tbody>\n",
       "    <tr>\n",
       "      <th>0</th>\n",
       "      <td>0</td>\n",
       "      <td>L50096</td>\n",
       "      <td>L</td>\n",
       "      <td>300.6</td>\n",
       "      <td>309.6</td>\n",
       "      <td>1596</td>\n",
       "      <td>36.1</td>\n",
       "      <td>140</td>\n",
       "      <td>0</td>\n",
       "      <td>0</td>\n",
       "      <td>0</td>\n",
       "      <td>0</td>\n",
       "      <td>0</td>\n",
       "      <td>0</td>\n",
       "    </tr>\n",
       "    <tr>\n",
       "      <th>1</th>\n",
       "      <td>1</td>\n",
       "      <td>M20343</td>\n",
       "      <td>M</td>\n",
       "      <td>302.6</td>\n",
       "      <td>312.1</td>\n",
       "      <td>1759</td>\n",
       "      <td>29.1</td>\n",
       "      <td>200</td>\n",
       "      <td>0</td>\n",
       "      <td>0</td>\n",
       "      <td>0</td>\n",
       "      <td>0</td>\n",
       "      <td>0</td>\n",
       "      <td>0</td>\n",
       "    </tr>\n",
       "    <tr>\n",
       "      <th>2</th>\n",
       "      <td>2</td>\n",
       "      <td>L49454</td>\n",
       "      <td>L</td>\n",
       "      <td>299.3</td>\n",
       "      <td>308.5</td>\n",
       "      <td>1805</td>\n",
       "      <td>26.5</td>\n",
       "      <td>25</td>\n",
       "      <td>0</td>\n",
       "      <td>0</td>\n",
       "      <td>0</td>\n",
       "      <td>0</td>\n",
       "      <td>0</td>\n",
       "      <td>0</td>\n",
       "    </tr>\n",
       "    <tr>\n",
       "      <th>3</th>\n",
       "      <td>3</td>\n",
       "      <td>L53355</td>\n",
       "      <td>L</td>\n",
       "      <td>301.0</td>\n",
       "      <td>310.9</td>\n",
       "      <td>1524</td>\n",
       "      <td>44.3</td>\n",
       "      <td>197</td>\n",
       "      <td>0</td>\n",
       "      <td>0</td>\n",
       "      <td>0</td>\n",
       "      <td>0</td>\n",
       "      <td>0</td>\n",
       "      <td>0</td>\n",
       "    </tr>\n",
       "    <tr>\n",
       "      <th>4</th>\n",
       "      <td>4</td>\n",
       "      <td>M24050</td>\n",
       "      <td>M</td>\n",
       "      <td>298.0</td>\n",
       "      <td>309.0</td>\n",
       "      <td>1641</td>\n",
       "      <td>35.4</td>\n",
       "      <td>34</td>\n",
       "      <td>0</td>\n",
       "      <td>0</td>\n",
       "      <td>0</td>\n",
       "      <td>0</td>\n",
       "      <td>0</td>\n",
       "      <td>0</td>\n",
       "    </tr>\n",
       "  </tbody>\n",
       "</table>\n",
       "</div>"
      ],
      "text/plain": [
       "   id Product ID Type  Air temperature [K]  Process temperature [K]  \\\n",
       "0   0     L50096    L                300.6                    309.6   \n",
       "1   1     M20343    M                302.6                    312.1   \n",
       "2   2     L49454    L                299.3                    308.5   \n",
       "3   3     L53355    L                301.0                    310.9   \n",
       "4   4     M24050    M                298.0                    309.0   \n",
       "\n",
       "   Rotational speed [rpm]  Torque [Nm]  Tool wear [min]  Machine failure  TWF  \\\n",
       "0                    1596         36.1              140                0    0   \n",
       "1                    1759         29.1              200                0    0   \n",
       "2                    1805         26.5               25                0    0   \n",
       "3                    1524         44.3              197                0    0   \n",
       "4                    1641         35.4               34                0    0   \n",
       "\n",
       "   HDF  PWF  OSF  RNF  \n",
       "0    0    0    0    0  \n",
       "1    0    0    0    0  \n",
       "2    0    0    0    0  \n",
       "3    0    0    0    0  \n",
       "4    0    0    0    0  "
      ]
     },
     "execution_count": 2,
     "metadata": {},
     "output_type": "execute_result"
    }
   ],
   "source": [
    "df_train = pd.read_csv('E:\\\\CAPSTONE DATA SCIENCE PROJECTS\\\\KAGGLE DATA SET\\\\1\\\\train.csv')\n",
    "df_train.head()"
   ]
  },
  {
   "cell_type": "code",
   "execution_count": 3,
   "id": "5053c2e4",
   "metadata": {},
   "outputs": [
    {
     "data": {
      "text/html": [
       "<div>\n",
       "<style scoped>\n",
       "    .dataframe tbody tr th:only-of-type {\n",
       "        vertical-align: middle;\n",
       "    }\n",
       "\n",
       "    .dataframe tbody tr th {\n",
       "        vertical-align: top;\n",
       "    }\n",
       "\n",
       "    .dataframe thead th {\n",
       "        text-align: right;\n",
       "    }\n",
       "</style>\n",
       "<table border=\"1\" class=\"dataframe\">\n",
       "  <thead>\n",
       "    <tr style=\"text-align: right;\">\n",
       "      <th></th>\n",
       "      <th>id</th>\n",
       "      <th>Product ID</th>\n",
       "      <th>Type</th>\n",
       "      <th>Air temperature [K]</th>\n",
       "      <th>Process temperature [K]</th>\n",
       "      <th>Rotational speed [rpm]</th>\n",
       "      <th>Torque [Nm]</th>\n",
       "      <th>Tool wear [min]</th>\n",
       "      <th>TWF</th>\n",
       "      <th>HDF</th>\n",
       "      <th>PWF</th>\n",
       "      <th>OSF</th>\n",
       "      <th>RNF</th>\n",
       "    </tr>\n",
       "  </thead>\n",
       "  <tbody>\n",
       "    <tr>\n",
       "      <th>0</th>\n",
       "      <td>136429</td>\n",
       "      <td>L50896</td>\n",
       "      <td>L</td>\n",
       "      <td>302.3</td>\n",
       "      <td>311.5</td>\n",
       "      <td>1499</td>\n",
       "      <td>38.0</td>\n",
       "      <td>60</td>\n",
       "      <td>0</td>\n",
       "      <td>0</td>\n",
       "      <td>0</td>\n",
       "      <td>0</td>\n",
       "      <td>0</td>\n",
       "    </tr>\n",
       "    <tr>\n",
       "      <th>1</th>\n",
       "      <td>136430</td>\n",
       "      <td>L53866</td>\n",
       "      <td>L</td>\n",
       "      <td>301.7</td>\n",
       "      <td>311.0</td>\n",
       "      <td>1713</td>\n",
       "      <td>28.8</td>\n",
       "      <td>17</td>\n",
       "      <td>0</td>\n",
       "      <td>0</td>\n",
       "      <td>0</td>\n",
       "      <td>0</td>\n",
       "      <td>0</td>\n",
       "    </tr>\n",
       "    <tr>\n",
       "      <th>2</th>\n",
       "      <td>136431</td>\n",
       "      <td>L50498</td>\n",
       "      <td>L</td>\n",
       "      <td>301.3</td>\n",
       "      <td>310.4</td>\n",
       "      <td>1525</td>\n",
       "      <td>37.7</td>\n",
       "      <td>96</td>\n",
       "      <td>0</td>\n",
       "      <td>0</td>\n",
       "      <td>0</td>\n",
       "      <td>0</td>\n",
       "      <td>0</td>\n",
       "    </tr>\n",
       "    <tr>\n",
       "      <th>3</th>\n",
       "      <td>136432</td>\n",
       "      <td>M21232</td>\n",
       "      <td>M</td>\n",
       "      <td>300.1</td>\n",
       "      <td>309.6</td>\n",
       "      <td>1479</td>\n",
       "      <td>47.6</td>\n",
       "      <td>5</td>\n",
       "      <td>0</td>\n",
       "      <td>0</td>\n",
       "      <td>0</td>\n",
       "      <td>0</td>\n",
       "      <td>0</td>\n",
       "    </tr>\n",
       "    <tr>\n",
       "      <th>4</th>\n",
       "      <td>136433</td>\n",
       "      <td>M19751</td>\n",
       "      <td>M</td>\n",
       "      <td>303.4</td>\n",
       "      <td>312.3</td>\n",
       "      <td>1515</td>\n",
       "      <td>41.3</td>\n",
       "      <td>114</td>\n",
       "      <td>0</td>\n",
       "      <td>0</td>\n",
       "      <td>0</td>\n",
       "      <td>0</td>\n",
       "      <td>0</td>\n",
       "    </tr>\n",
       "  </tbody>\n",
       "</table>\n",
       "</div>"
      ],
      "text/plain": [
       "       id Product ID Type  Air temperature [K]  Process temperature [K]  \\\n",
       "0  136429     L50896    L                302.3                    311.5   \n",
       "1  136430     L53866    L                301.7                    311.0   \n",
       "2  136431     L50498    L                301.3                    310.4   \n",
       "3  136432     M21232    M                300.1                    309.6   \n",
       "4  136433     M19751    M                303.4                    312.3   \n",
       "\n",
       "   Rotational speed [rpm]  Torque [Nm]  Tool wear [min]  TWF  HDF  PWF  OSF  \\\n",
       "0                    1499         38.0               60    0    0    0    0   \n",
       "1                    1713         28.8               17    0    0    0    0   \n",
       "2                    1525         37.7               96    0    0    0    0   \n",
       "3                    1479         47.6                5    0    0    0    0   \n",
       "4                    1515         41.3              114    0    0    0    0   \n",
       "\n",
       "   RNF  \n",
       "0    0  \n",
       "1    0  \n",
       "2    0  \n",
       "3    0  \n",
       "4    0  "
      ]
     },
     "execution_count": 3,
     "metadata": {},
     "output_type": "execute_result"
    }
   ],
   "source": [
    "df_test = pd.read_csv('E:\\\\CAPSTONE DATA SCIENCE PROJECTS\\\\KAGGLE DATA SET\\\\1\\\\test.csv')\n",
    "df_test.head()"
   ]
  },
  {
   "cell_type": "code",
   "execution_count": 4,
   "id": "02446ba6",
   "metadata": {},
   "outputs": [
    {
     "name": "stdout",
     "output_type": "stream",
     "text": [
      "<class 'pandas.core.frame.DataFrame'>\n",
      "RangeIndex: 136429 entries, 0 to 136428\n",
      "Data columns (total 14 columns):\n",
      " #   Column                   Non-Null Count   Dtype  \n",
      "---  ------                   --------------   -----  \n",
      " 0   id                       136429 non-null  int64  \n",
      " 1   Product ID               136429 non-null  object \n",
      " 2   Type                     136429 non-null  object \n",
      " 3   Air temperature [K]      136429 non-null  float64\n",
      " 4   Process temperature [K]  136429 non-null  float64\n",
      " 5   Rotational speed [rpm]   136429 non-null  int64  \n",
      " 6   Torque [Nm]              136429 non-null  float64\n",
      " 7   Tool wear [min]          136429 non-null  int64  \n",
      " 8   Machine failure          136429 non-null  int64  \n",
      " 9   TWF                      136429 non-null  int64  \n",
      " 10  HDF                      136429 non-null  int64  \n",
      " 11  PWF                      136429 non-null  int64  \n",
      " 12  OSF                      136429 non-null  int64  \n",
      " 13  RNF                      136429 non-null  int64  \n",
      "dtypes: float64(3), int64(9), object(2)\n",
      "memory usage: 14.6+ MB\n"
     ]
    }
   ],
   "source": [
    "df_train.info()"
   ]
  },
  {
   "cell_type": "code",
   "execution_count": 5,
   "id": "f5fb3ad1",
   "metadata": {},
   "outputs": [
    {
     "name": "stdout",
     "output_type": "stream",
     "text": [
      "<class 'pandas.core.frame.DataFrame'>\n",
      "RangeIndex: 90954 entries, 0 to 90953\n",
      "Data columns (total 13 columns):\n",
      " #   Column                   Non-Null Count  Dtype  \n",
      "---  ------                   --------------  -----  \n",
      " 0   id                       90954 non-null  int64  \n",
      " 1   Product ID               90954 non-null  object \n",
      " 2   Type                     90954 non-null  object \n",
      " 3   Air temperature [K]      90954 non-null  float64\n",
      " 4   Process temperature [K]  90954 non-null  float64\n",
      " 5   Rotational speed [rpm]   90954 non-null  int64  \n",
      " 6   Torque [Nm]              90954 non-null  float64\n",
      " 7   Tool wear [min]          90954 non-null  int64  \n",
      " 8   TWF                      90954 non-null  int64  \n",
      " 9   HDF                      90954 non-null  int64  \n",
      " 10  PWF                      90954 non-null  int64  \n",
      " 11  OSF                      90954 non-null  int64  \n",
      " 12  RNF                      90954 non-null  int64  \n",
      "dtypes: float64(3), int64(8), object(2)\n",
      "memory usage: 9.0+ MB\n"
     ]
    }
   ],
   "source": [
    "df_test.info()"
   ]
  },
  {
   "cell_type": "markdown",
   "id": "63d7a9ee",
   "metadata": {},
   "source": [
    "# 2 Exploratery Data Analysis and Visualization "
   ]
  },
  {
   "cell_type": "code",
   "execution_count": 6,
   "id": "f0ab399e",
   "metadata": {},
   "outputs": [
    {
     "data": {
      "text/plain": [
       "array(['L', 'M', 'H'], dtype=object)"
      ]
     },
     "execution_count": 6,
     "metadata": {},
     "output_type": "execute_result"
    }
   ],
   "source": [
    "df_train['Type'].unique()"
   ]
  },
  {
   "cell_type": "code",
   "execution_count": 7,
   "id": "ecad1762",
   "metadata": {},
   "outputs": [
    {
     "data": {
      "text/plain": [
       "array([0, 1], dtype=int64)"
      ]
     },
     "execution_count": 7,
     "metadata": {},
     "output_type": "execute_result"
    }
   ],
   "source": [
    "df_train['Machine failure'].unique()"
   ]
  },
  {
   "cell_type": "code",
   "execution_count": 8,
   "id": "c5810d7a",
   "metadata": {},
   "outputs": [
    {
     "data": {
      "text/html": [
       "<div>\n",
       "<style scoped>\n",
       "    .dataframe tbody tr th:only-of-type {\n",
       "        vertical-align: middle;\n",
       "    }\n",
       "\n",
       "    .dataframe tbody tr th {\n",
       "        vertical-align: top;\n",
       "    }\n",
       "\n",
       "    .dataframe thead th {\n",
       "        text-align: right;\n",
       "    }\n",
       "</style>\n",
       "<table border=\"1\" class=\"dataframe\">\n",
       "  <thead>\n",
       "    <tr style=\"text-align: right;\">\n",
       "      <th></th>\n",
       "      <th>id</th>\n",
       "      <th>Air temperature [K]</th>\n",
       "      <th>Process temperature [K]</th>\n",
       "      <th>Rotational speed [rpm]</th>\n",
       "      <th>Torque [Nm]</th>\n",
       "      <th>Tool wear [min]</th>\n",
       "      <th>Machine failure</th>\n",
       "      <th>TWF</th>\n",
       "      <th>HDF</th>\n",
       "      <th>PWF</th>\n",
       "      <th>OSF</th>\n",
       "      <th>RNF</th>\n",
       "    </tr>\n",
       "  </thead>\n",
       "  <tbody>\n",
       "    <tr>\n",
       "      <th>id</th>\n",
       "      <td>1.000000</td>\n",
       "      <td>-0.005338</td>\n",
       "      <td>-0.002396</td>\n",
       "      <td>0.004419</td>\n",
       "      <td>-0.001968</td>\n",
       "      <td>-0.001790</td>\n",
       "      <td>0.001500</td>\n",
       "      <td>-0.000475</td>\n",
       "      <td>-0.000680</td>\n",
       "      <td>0.003275</td>\n",
       "      <td>0.002114</td>\n",
       "      <td>0.000175</td>\n",
       "    </tr>\n",
       "    <tr>\n",
       "      <th>Air temperature [K]</th>\n",
       "      <td>-0.005338</td>\n",
       "      <td>1.000000</td>\n",
       "      <td>0.856080</td>\n",
       "      <td>0.016545</td>\n",
       "      <td>-0.006773</td>\n",
       "      <td>0.016994</td>\n",
       "      <td>0.067744</td>\n",
       "      <td>0.003826</td>\n",
       "      <td>0.100454</td>\n",
       "      <td>0.007967</td>\n",
       "      <td>0.007842</td>\n",
       "      <td>0.004815</td>\n",
       "    </tr>\n",
       "    <tr>\n",
       "      <th>Process temperature [K]</th>\n",
       "      <td>-0.002396</td>\n",
       "      <td>0.856080</td>\n",
       "      <td>1.000000</td>\n",
       "      <td>0.011263</td>\n",
       "      <td>-0.006298</td>\n",
       "      <td>0.012777</td>\n",
       "      <td>0.030966</td>\n",
       "      <td>0.004459</td>\n",
       "      <td>0.041454</td>\n",
       "      <td>0.003871</td>\n",
       "      <td>0.005337</td>\n",
       "      <td>0.004399</td>\n",
       "    </tr>\n",
       "    <tr>\n",
       "      <th>Rotational speed [rpm]</th>\n",
       "      <td>0.004419</td>\n",
       "      <td>0.016545</td>\n",
       "      <td>0.011263</td>\n",
       "      <td>1.000000</td>\n",
       "      <td>-0.779394</td>\n",
       "      <td>0.003983</td>\n",
       "      <td>-0.060868</td>\n",
       "      <td>-0.005765</td>\n",
       "      <td>-0.081996</td>\n",
       "      <td>0.053948</td>\n",
       "      <td>-0.061376</td>\n",
       "      <td>-0.003410</td>\n",
       "    </tr>\n",
       "    <tr>\n",
       "      <th>Torque [Nm]</th>\n",
       "      <td>-0.001968</td>\n",
       "      <td>-0.006773</td>\n",
       "      <td>-0.006298</td>\n",
       "      <td>-0.779394</td>\n",
       "      <td>1.000000</td>\n",
       "      <td>-0.003148</td>\n",
       "      <td>0.145793</td>\n",
       "      <td>0.012983</td>\n",
       "      <td>0.100773</td>\n",
       "      <td>0.050289</td>\n",
       "      <td>0.108765</td>\n",
       "      <td>0.007986</td>\n",
       "    </tr>\n",
       "    <tr>\n",
       "      <th>Tool wear [min]</th>\n",
       "      <td>-0.001790</td>\n",
       "      <td>0.016994</td>\n",
       "      <td>0.012777</td>\n",
       "      <td>0.003983</td>\n",
       "      <td>-0.003148</td>\n",
       "      <td>1.000000</td>\n",
       "      <td>0.056448</td>\n",
       "      <td>0.046470</td>\n",
       "      <td>0.011709</td>\n",
       "      <td>0.007624</td>\n",
       "      <td>0.063604</td>\n",
       "      <td>-0.002071</td>\n",
       "    </tr>\n",
       "    <tr>\n",
       "      <th>Machine failure</th>\n",
       "      <td>0.001500</td>\n",
       "      <td>0.067744</td>\n",
       "      <td>0.030966</td>\n",
       "      <td>-0.060868</td>\n",
       "      <td>0.145793</td>\n",
       "      <td>0.056448</td>\n",
       "      <td>1.000000</td>\n",
       "      <td>0.311919</td>\n",
       "      <td>0.564507</td>\n",
       "      <td>0.383941</td>\n",
       "      <td>0.494668</td>\n",
       "      <td>0.001428</td>\n",
       "    </tr>\n",
       "    <tr>\n",
       "      <th>TWF</th>\n",
       "      <td>-0.000475</td>\n",
       "      <td>0.003826</td>\n",
       "      <td>0.004459</td>\n",
       "      <td>-0.005765</td>\n",
       "      <td>0.012983</td>\n",
       "      <td>0.046470</td>\n",
       "      <td>0.311919</td>\n",
       "      <td>1.000000</td>\n",
       "      <td>0.010145</td>\n",
       "      <td>0.039927</td>\n",
       "      <td>0.036041</td>\n",
       "      <td>0.002044</td>\n",
       "    </tr>\n",
       "    <tr>\n",
       "      <th>HDF</th>\n",
       "      <td>-0.000680</td>\n",
       "      <td>0.100454</td>\n",
       "      <td>0.041454</td>\n",
       "      <td>-0.081996</td>\n",
       "      <td>0.100773</td>\n",
       "      <td>0.011709</td>\n",
       "      <td>0.564507</td>\n",
       "      <td>0.010145</td>\n",
       "      <td>1.000000</td>\n",
       "      <td>0.046680</td>\n",
       "      <td>0.067149</td>\n",
       "      <td>0.000885</td>\n",
       "    </tr>\n",
       "    <tr>\n",
       "      <th>PWF</th>\n",
       "      <td>0.003275</td>\n",
       "      <td>0.007967</td>\n",
       "      <td>0.003871</td>\n",
       "      <td>0.053948</td>\n",
       "      <td>0.050289</td>\n",
       "      <td>0.007624</td>\n",
       "      <td>0.383941</td>\n",
       "      <td>0.039927</td>\n",
       "      <td>0.046680</td>\n",
       "      <td>1.000000</td>\n",
       "      <td>0.090016</td>\n",
       "      <td>0.000827</td>\n",
       "    </tr>\n",
       "    <tr>\n",
       "      <th>OSF</th>\n",
       "      <td>0.002114</td>\n",
       "      <td>0.007842</td>\n",
       "      <td>0.005337</td>\n",
       "      <td>-0.061376</td>\n",
       "      <td>0.108765</td>\n",
       "      <td>0.063604</td>\n",
       "      <td>0.494668</td>\n",
       "      <td>0.036041</td>\n",
       "      <td>0.067149</td>\n",
       "      <td>0.090016</td>\n",
       "      <td>1.000000</td>\n",
       "      <td>-0.000539</td>\n",
       "    </tr>\n",
       "    <tr>\n",
       "      <th>RNF</th>\n",
       "      <td>0.000175</td>\n",
       "      <td>0.004815</td>\n",
       "      <td>0.004399</td>\n",
       "      <td>-0.003410</td>\n",
       "      <td>0.007986</td>\n",
       "      <td>-0.002071</td>\n",
       "      <td>0.001428</td>\n",
       "      <td>0.002044</td>\n",
       "      <td>0.000885</td>\n",
       "      <td>0.000827</td>\n",
       "      <td>-0.000539</td>\n",
       "      <td>1.000000</td>\n",
       "    </tr>\n",
       "  </tbody>\n",
       "</table>\n",
       "</div>"
      ],
      "text/plain": [
       "                               id  Air temperature [K]  \\\n",
       "id                       1.000000            -0.005338   \n",
       "Air temperature [K]     -0.005338             1.000000   \n",
       "Process temperature [K] -0.002396             0.856080   \n",
       "Rotational speed [rpm]   0.004419             0.016545   \n",
       "Torque [Nm]             -0.001968            -0.006773   \n",
       "Tool wear [min]         -0.001790             0.016994   \n",
       "Machine failure          0.001500             0.067744   \n",
       "TWF                     -0.000475             0.003826   \n",
       "HDF                     -0.000680             0.100454   \n",
       "PWF                      0.003275             0.007967   \n",
       "OSF                      0.002114             0.007842   \n",
       "RNF                      0.000175             0.004815   \n",
       "\n",
       "                         Process temperature [K]  Rotational speed [rpm]  \\\n",
       "id                                     -0.002396                0.004419   \n",
       "Air temperature [K]                     0.856080                0.016545   \n",
       "Process temperature [K]                 1.000000                0.011263   \n",
       "Rotational speed [rpm]                  0.011263                1.000000   \n",
       "Torque [Nm]                            -0.006298               -0.779394   \n",
       "Tool wear [min]                         0.012777                0.003983   \n",
       "Machine failure                         0.030966               -0.060868   \n",
       "TWF                                     0.004459               -0.005765   \n",
       "HDF                                     0.041454               -0.081996   \n",
       "PWF                                     0.003871                0.053948   \n",
       "OSF                                     0.005337               -0.061376   \n",
       "RNF                                     0.004399               -0.003410   \n",
       "\n",
       "                         Torque [Nm]  Tool wear [min]  Machine failure  \\\n",
       "id                         -0.001968        -0.001790         0.001500   \n",
       "Air temperature [K]        -0.006773         0.016994         0.067744   \n",
       "Process temperature [K]    -0.006298         0.012777         0.030966   \n",
       "Rotational speed [rpm]     -0.779394         0.003983        -0.060868   \n",
       "Torque [Nm]                 1.000000        -0.003148         0.145793   \n",
       "Tool wear [min]            -0.003148         1.000000         0.056448   \n",
       "Machine failure             0.145793         0.056448         1.000000   \n",
       "TWF                         0.012983         0.046470         0.311919   \n",
       "HDF                         0.100773         0.011709         0.564507   \n",
       "PWF                         0.050289         0.007624         0.383941   \n",
       "OSF                         0.108765         0.063604         0.494668   \n",
       "RNF                         0.007986        -0.002071         0.001428   \n",
       "\n",
       "                              TWF       HDF       PWF       OSF       RNF  \n",
       "id                      -0.000475 -0.000680  0.003275  0.002114  0.000175  \n",
       "Air temperature [K]      0.003826  0.100454  0.007967  0.007842  0.004815  \n",
       "Process temperature [K]  0.004459  0.041454  0.003871  0.005337  0.004399  \n",
       "Rotational speed [rpm]  -0.005765 -0.081996  0.053948 -0.061376 -0.003410  \n",
       "Torque [Nm]              0.012983  0.100773  0.050289  0.108765  0.007986  \n",
       "Tool wear [min]          0.046470  0.011709  0.007624  0.063604 -0.002071  \n",
       "Machine failure          0.311919  0.564507  0.383941  0.494668  0.001428  \n",
       "TWF                      1.000000  0.010145  0.039927  0.036041  0.002044  \n",
       "HDF                      0.010145  1.000000  0.046680  0.067149  0.000885  \n",
       "PWF                      0.039927  0.046680  1.000000  0.090016  0.000827  \n",
       "OSF                      0.036041  0.067149  0.090016  1.000000 -0.000539  \n",
       "RNF                      0.002044  0.000885  0.000827 -0.000539  1.000000  "
      ]
     },
     "execution_count": 8,
     "metadata": {},
     "output_type": "execute_result"
    }
   ],
   "source": [
    "df_train.corr()"
   ]
  },
  {
   "cell_type": "markdown",
   "id": "530b1d33",
   "metadata": {},
   "source": [
    "# 3 Data preprocessing"
   ]
  },
  {
   "cell_type": "markdown",
   "id": "aca609f9",
   "metadata": {},
   "source": [
    "# 3-1 EDA (exploratory data analysis) "
   ]
  },
  {
   "cell_type": "code",
   "execution_count": 9,
   "id": "90a2115e",
   "metadata": {},
   "outputs": [
    {
     "data": {
      "text/html": [
       "<div>\n",
       "<style scoped>\n",
       "    .dataframe tbody tr th:only-of-type {\n",
       "        vertical-align: middle;\n",
       "    }\n",
       "\n",
       "    .dataframe tbody tr th {\n",
       "        vertical-align: top;\n",
       "    }\n",
       "\n",
       "    .dataframe thead th {\n",
       "        text-align: right;\n",
       "    }\n",
       "</style>\n",
       "<table border=\"1\" class=\"dataframe\">\n",
       "  <thead>\n",
       "    <tr style=\"text-align: right;\">\n",
       "      <th></th>\n",
       "      <th>id</th>\n",
       "      <th>Air temperature [K]</th>\n",
       "      <th>Process temperature [K]</th>\n",
       "      <th>Rotational speed [rpm]</th>\n",
       "      <th>Torque [Nm]</th>\n",
       "      <th>Tool wear [min]</th>\n",
       "      <th>Machine failure</th>\n",
       "      <th>TWF</th>\n",
       "      <th>HDF</th>\n",
       "      <th>PWF</th>\n",
       "      <th>OSF</th>\n",
       "      <th>RNF</th>\n",
       "    </tr>\n",
       "  </thead>\n",
       "  <tbody>\n",
       "    <tr>\n",
       "      <th>count</th>\n",
       "      <td>136429.000000</td>\n",
       "      <td>136429.000000</td>\n",
       "      <td>136429.000000</td>\n",
       "      <td>136429.000000</td>\n",
       "      <td>136429.000000</td>\n",
       "      <td>136429.000000</td>\n",
       "      <td>136429.000000</td>\n",
       "      <td>136429.000000</td>\n",
       "      <td>136429.000000</td>\n",
       "      <td>136429.000000</td>\n",
       "      <td>136429.000000</td>\n",
       "      <td>136429.000000</td>\n",
       "    </tr>\n",
       "    <tr>\n",
       "      <th>mean</th>\n",
       "      <td>68214.000000</td>\n",
       "      <td>299.862776</td>\n",
       "      <td>309.941070</td>\n",
       "      <td>1520.331110</td>\n",
       "      <td>40.348643</td>\n",
       "      <td>104.408901</td>\n",
       "      <td>0.015744</td>\n",
       "      <td>0.001554</td>\n",
       "      <td>0.005160</td>\n",
       "      <td>0.002397</td>\n",
       "      <td>0.003958</td>\n",
       "      <td>0.002258</td>\n",
       "    </tr>\n",
       "    <tr>\n",
       "      <th>std</th>\n",
       "      <td>39383.804275</td>\n",
       "      <td>1.862247</td>\n",
       "      <td>1.385173</td>\n",
       "      <td>138.736632</td>\n",
       "      <td>8.502229</td>\n",
       "      <td>63.965040</td>\n",
       "      <td>0.124486</td>\n",
       "      <td>0.039389</td>\n",
       "      <td>0.071649</td>\n",
       "      <td>0.048899</td>\n",
       "      <td>0.062789</td>\n",
       "      <td>0.047461</td>\n",
       "    </tr>\n",
       "    <tr>\n",
       "      <th>min</th>\n",
       "      <td>0.000000</td>\n",
       "      <td>295.300000</td>\n",
       "      <td>305.800000</td>\n",
       "      <td>1181.000000</td>\n",
       "      <td>3.800000</td>\n",
       "      <td>0.000000</td>\n",
       "      <td>0.000000</td>\n",
       "      <td>0.000000</td>\n",
       "      <td>0.000000</td>\n",
       "      <td>0.000000</td>\n",
       "      <td>0.000000</td>\n",
       "      <td>0.000000</td>\n",
       "    </tr>\n",
       "    <tr>\n",
       "      <th>25%</th>\n",
       "      <td>34107.000000</td>\n",
       "      <td>298.300000</td>\n",
       "      <td>308.700000</td>\n",
       "      <td>1432.000000</td>\n",
       "      <td>34.600000</td>\n",
       "      <td>48.000000</td>\n",
       "      <td>0.000000</td>\n",
       "      <td>0.000000</td>\n",
       "      <td>0.000000</td>\n",
       "      <td>0.000000</td>\n",
       "      <td>0.000000</td>\n",
       "      <td>0.000000</td>\n",
       "    </tr>\n",
       "    <tr>\n",
       "      <th>50%</th>\n",
       "      <td>68214.000000</td>\n",
       "      <td>300.000000</td>\n",
       "      <td>310.000000</td>\n",
       "      <td>1493.000000</td>\n",
       "      <td>40.400000</td>\n",
       "      <td>106.000000</td>\n",
       "      <td>0.000000</td>\n",
       "      <td>0.000000</td>\n",
       "      <td>0.000000</td>\n",
       "      <td>0.000000</td>\n",
       "      <td>0.000000</td>\n",
       "      <td>0.000000</td>\n",
       "    </tr>\n",
       "    <tr>\n",
       "      <th>75%</th>\n",
       "      <td>102321.000000</td>\n",
       "      <td>301.200000</td>\n",
       "      <td>310.900000</td>\n",
       "      <td>1580.000000</td>\n",
       "      <td>46.100000</td>\n",
       "      <td>159.000000</td>\n",
       "      <td>0.000000</td>\n",
       "      <td>0.000000</td>\n",
       "      <td>0.000000</td>\n",
       "      <td>0.000000</td>\n",
       "      <td>0.000000</td>\n",
       "      <td>0.000000</td>\n",
       "    </tr>\n",
       "    <tr>\n",
       "      <th>max</th>\n",
       "      <td>136428.000000</td>\n",
       "      <td>304.400000</td>\n",
       "      <td>313.800000</td>\n",
       "      <td>2886.000000</td>\n",
       "      <td>76.600000</td>\n",
       "      <td>253.000000</td>\n",
       "      <td>1.000000</td>\n",
       "      <td>1.000000</td>\n",
       "      <td>1.000000</td>\n",
       "      <td>1.000000</td>\n",
       "      <td>1.000000</td>\n",
       "      <td>1.000000</td>\n",
       "    </tr>\n",
       "  </tbody>\n",
       "</table>\n",
       "</div>"
      ],
      "text/plain": [
       "                  id  Air temperature [K]  Process temperature [K]  \\\n",
       "count  136429.000000        136429.000000            136429.000000   \n",
       "mean    68214.000000           299.862776               309.941070   \n",
       "std     39383.804275             1.862247                 1.385173   \n",
       "min         0.000000           295.300000               305.800000   \n",
       "25%     34107.000000           298.300000               308.700000   \n",
       "50%     68214.000000           300.000000               310.000000   \n",
       "75%    102321.000000           301.200000               310.900000   \n",
       "max    136428.000000           304.400000               313.800000   \n",
       "\n",
       "       Rotational speed [rpm]    Torque [Nm]  Tool wear [min]  \\\n",
       "count           136429.000000  136429.000000    136429.000000   \n",
       "mean              1520.331110      40.348643       104.408901   \n",
       "std                138.736632       8.502229        63.965040   \n",
       "min               1181.000000       3.800000         0.000000   \n",
       "25%               1432.000000      34.600000        48.000000   \n",
       "50%               1493.000000      40.400000       106.000000   \n",
       "75%               1580.000000      46.100000       159.000000   \n",
       "max               2886.000000      76.600000       253.000000   \n",
       "\n",
       "       Machine failure            TWF            HDF            PWF  \\\n",
       "count    136429.000000  136429.000000  136429.000000  136429.000000   \n",
       "mean          0.015744       0.001554       0.005160       0.002397   \n",
       "std           0.124486       0.039389       0.071649       0.048899   \n",
       "min           0.000000       0.000000       0.000000       0.000000   \n",
       "25%           0.000000       0.000000       0.000000       0.000000   \n",
       "50%           0.000000       0.000000       0.000000       0.000000   \n",
       "75%           0.000000       0.000000       0.000000       0.000000   \n",
       "max           1.000000       1.000000       1.000000       1.000000   \n",
       "\n",
       "                 OSF            RNF  \n",
       "count  136429.000000  136429.000000  \n",
       "mean        0.003958       0.002258  \n",
       "std         0.062789       0.047461  \n",
       "min         0.000000       0.000000  \n",
       "25%         0.000000       0.000000  \n",
       "50%         0.000000       0.000000  \n",
       "75%         0.000000       0.000000  \n",
       "max         1.000000       1.000000  "
      ]
     },
     "execution_count": 9,
     "metadata": {},
     "output_type": "execute_result"
    }
   ],
   "source": [
    "df_train.describe()"
   ]
  },
  {
   "cell_type": "markdown",
   "id": "24fc853d",
   "metadata": {},
   "source": [
    "# Droping unimportant variable"
   ]
  },
  {
   "cell_type": "code",
   "execution_count": 10,
   "id": "aa74639f",
   "metadata": {},
   "outputs": [
    {
     "data": {
      "text/html": [
       "<div>\n",
       "<style scoped>\n",
       "    .dataframe tbody tr th:only-of-type {\n",
       "        vertical-align: middle;\n",
       "    }\n",
       "\n",
       "    .dataframe tbody tr th {\n",
       "        vertical-align: top;\n",
       "    }\n",
       "\n",
       "    .dataframe thead th {\n",
       "        text-align: right;\n",
       "    }\n",
       "</style>\n",
       "<table border=\"1\" class=\"dataframe\">\n",
       "  <thead>\n",
       "    <tr style=\"text-align: right;\">\n",
       "      <th></th>\n",
       "      <th>Type</th>\n",
       "      <th>Air temperature [K]</th>\n",
       "      <th>Process temperature [K]</th>\n",
       "      <th>Rotational speed [rpm]</th>\n",
       "      <th>Torque [Nm]</th>\n",
       "      <th>Tool wear [min]</th>\n",
       "      <th>Machine failure</th>\n",
       "      <th>TWF</th>\n",
       "      <th>HDF</th>\n",
       "      <th>PWF</th>\n",
       "      <th>OSF</th>\n",
       "      <th>RNF</th>\n",
       "    </tr>\n",
       "  </thead>\n",
       "  <tbody>\n",
       "    <tr>\n",
       "      <th>0</th>\n",
       "      <td>L</td>\n",
       "      <td>300.6</td>\n",
       "      <td>309.6</td>\n",
       "      <td>1596</td>\n",
       "      <td>36.1</td>\n",
       "      <td>140</td>\n",
       "      <td>0</td>\n",
       "      <td>0</td>\n",
       "      <td>0</td>\n",
       "      <td>0</td>\n",
       "      <td>0</td>\n",
       "      <td>0</td>\n",
       "    </tr>\n",
       "    <tr>\n",
       "      <th>1</th>\n",
       "      <td>M</td>\n",
       "      <td>302.6</td>\n",
       "      <td>312.1</td>\n",
       "      <td>1759</td>\n",
       "      <td>29.1</td>\n",
       "      <td>200</td>\n",
       "      <td>0</td>\n",
       "      <td>0</td>\n",
       "      <td>0</td>\n",
       "      <td>0</td>\n",
       "      <td>0</td>\n",
       "      <td>0</td>\n",
       "    </tr>\n",
       "    <tr>\n",
       "      <th>2</th>\n",
       "      <td>L</td>\n",
       "      <td>299.3</td>\n",
       "      <td>308.5</td>\n",
       "      <td>1805</td>\n",
       "      <td>26.5</td>\n",
       "      <td>25</td>\n",
       "      <td>0</td>\n",
       "      <td>0</td>\n",
       "      <td>0</td>\n",
       "      <td>0</td>\n",
       "      <td>0</td>\n",
       "      <td>0</td>\n",
       "    </tr>\n",
       "    <tr>\n",
       "      <th>3</th>\n",
       "      <td>L</td>\n",
       "      <td>301.0</td>\n",
       "      <td>310.9</td>\n",
       "      <td>1524</td>\n",
       "      <td>44.3</td>\n",
       "      <td>197</td>\n",
       "      <td>0</td>\n",
       "      <td>0</td>\n",
       "      <td>0</td>\n",
       "      <td>0</td>\n",
       "      <td>0</td>\n",
       "      <td>0</td>\n",
       "    </tr>\n",
       "    <tr>\n",
       "      <th>4</th>\n",
       "      <td>M</td>\n",
       "      <td>298.0</td>\n",
       "      <td>309.0</td>\n",
       "      <td>1641</td>\n",
       "      <td>35.4</td>\n",
       "      <td>34</td>\n",
       "      <td>0</td>\n",
       "      <td>0</td>\n",
       "      <td>0</td>\n",
       "      <td>0</td>\n",
       "      <td>0</td>\n",
       "      <td>0</td>\n",
       "    </tr>\n",
       "    <tr>\n",
       "      <th>...</th>\n",
       "      <td>...</td>\n",
       "      <td>...</td>\n",
       "      <td>...</td>\n",
       "      <td>...</td>\n",
       "      <td>...</td>\n",
       "      <td>...</td>\n",
       "      <td>...</td>\n",
       "      <td>...</td>\n",
       "      <td>...</td>\n",
       "      <td>...</td>\n",
       "      <td>...</td>\n",
       "      <td>...</td>\n",
       "    </tr>\n",
       "    <tr>\n",
       "      <th>136424</th>\n",
       "      <td>M</td>\n",
       "      <td>300.1</td>\n",
       "      <td>311.4</td>\n",
       "      <td>1530</td>\n",
       "      <td>37.5</td>\n",
       "      <td>210</td>\n",
       "      <td>0</td>\n",
       "      <td>0</td>\n",
       "      <td>0</td>\n",
       "      <td>0</td>\n",
       "      <td>0</td>\n",
       "      <td>0</td>\n",
       "    </tr>\n",
       "    <tr>\n",
       "      <th>136425</th>\n",
       "      <td>H</td>\n",
       "      <td>297.5</td>\n",
       "      <td>308.5</td>\n",
       "      <td>1447</td>\n",
       "      <td>49.1</td>\n",
       "      <td>2</td>\n",
       "      <td>0</td>\n",
       "      <td>0</td>\n",
       "      <td>0</td>\n",
       "      <td>0</td>\n",
       "      <td>0</td>\n",
       "      <td>0</td>\n",
       "    </tr>\n",
       "    <tr>\n",
       "      <th>136426</th>\n",
       "      <td>L</td>\n",
       "      <td>300.5</td>\n",
       "      <td>311.8</td>\n",
       "      <td>1524</td>\n",
       "      <td>38.5</td>\n",
       "      <td>214</td>\n",
       "      <td>0</td>\n",
       "      <td>0</td>\n",
       "      <td>0</td>\n",
       "      <td>0</td>\n",
       "      <td>0</td>\n",
       "      <td>0</td>\n",
       "    </tr>\n",
       "    <tr>\n",
       "      <th>136427</th>\n",
       "      <td>L</td>\n",
       "      <td>301.7</td>\n",
       "      <td>310.9</td>\n",
       "      <td>1447</td>\n",
       "      <td>46.3</td>\n",
       "      <td>42</td>\n",
       "      <td>0</td>\n",
       "      <td>0</td>\n",
       "      <td>0</td>\n",
       "      <td>0</td>\n",
       "      <td>0</td>\n",
       "      <td>0</td>\n",
       "    </tr>\n",
       "    <tr>\n",
       "      <th>136428</th>\n",
       "      <td>L</td>\n",
       "      <td>296.9</td>\n",
       "      <td>308.1</td>\n",
       "      <td>1557</td>\n",
       "      <td>39.3</td>\n",
       "      <td>229</td>\n",
       "      <td>0</td>\n",
       "      <td>0</td>\n",
       "      <td>0</td>\n",
       "      <td>0</td>\n",
       "      <td>0</td>\n",
       "      <td>0</td>\n",
       "    </tr>\n",
       "  </tbody>\n",
       "</table>\n",
       "<p>136429 rows × 12 columns</p>\n",
       "</div>"
      ],
      "text/plain": [
       "       Type  Air temperature [K]  Process temperature [K]  \\\n",
       "0         L                300.6                    309.6   \n",
       "1         M                302.6                    312.1   \n",
       "2         L                299.3                    308.5   \n",
       "3         L                301.0                    310.9   \n",
       "4         M                298.0                    309.0   \n",
       "...     ...                  ...                      ...   \n",
       "136424    M                300.1                    311.4   \n",
       "136425    H                297.5                    308.5   \n",
       "136426    L                300.5                    311.8   \n",
       "136427    L                301.7                    310.9   \n",
       "136428    L                296.9                    308.1   \n",
       "\n",
       "        Rotational speed [rpm]  Torque [Nm]  Tool wear [min]  Machine failure  \\\n",
       "0                         1596         36.1              140                0   \n",
       "1                         1759         29.1              200                0   \n",
       "2                         1805         26.5               25                0   \n",
       "3                         1524         44.3              197                0   \n",
       "4                         1641         35.4               34                0   \n",
       "...                        ...          ...              ...              ...   \n",
       "136424                    1530         37.5              210                0   \n",
       "136425                    1447         49.1                2                0   \n",
       "136426                    1524         38.5              214                0   \n",
       "136427                    1447         46.3               42                0   \n",
       "136428                    1557         39.3              229                0   \n",
       "\n",
       "        TWF  HDF  PWF  OSF  RNF  \n",
       "0         0    0    0    0    0  \n",
       "1         0    0    0    0    0  \n",
       "2         0    0    0    0    0  \n",
       "3         0    0    0    0    0  \n",
       "4         0    0    0    0    0  \n",
       "...     ...  ...  ...  ...  ...  \n",
       "136424    0    0    0    0    0  \n",
       "136425    0    0    0    0    0  \n",
       "136426    0    0    0    0    0  \n",
       "136427    0    0    0    0    0  \n",
       "136428    0    0    0    0    0  \n",
       "\n",
       "[136429 rows x 12 columns]"
      ]
     },
     "execution_count": 10,
     "metadata": {},
     "output_type": "execute_result"
    }
   ],
   "source": [
    "df_train.drop(\"id\",axis=1,inplace=True)\n",
    "df_train.drop(\"Product ID\",axis=1,inplace=True)\n",
    "df_train\n"
   ]
  },
  {
   "cell_type": "markdown",
   "id": "7b0b050f",
   "metadata": {},
   "source": [
    "# check list how many missing variables present "
   ]
  },
  {
   "cell_type": "code",
   "execution_count": 11,
   "id": "c6c8b30b",
   "metadata": {},
   "outputs": [
    {
     "data": {
      "text/plain": [
       "136429"
      ]
     },
     "execution_count": 11,
     "metadata": {},
     "output_type": "execute_result"
    }
   ],
   "source": [
    "df_train.duplicated().count()"
   ]
  },
  {
   "cell_type": "code",
   "execution_count": 12,
   "id": "27c42979",
   "metadata": {},
   "outputs": [
    {
     "data": {
      "text/html": [
       "<div>\n",
       "<style scoped>\n",
       "    .dataframe tbody tr th:only-of-type {\n",
       "        vertical-align: middle;\n",
       "    }\n",
       "\n",
       "    .dataframe tbody tr th {\n",
       "        vertical-align: top;\n",
       "    }\n",
       "\n",
       "    .dataframe thead th {\n",
       "        text-align: right;\n",
       "    }\n",
       "</style>\n",
       "<table border=\"1\" class=\"dataframe\">\n",
       "  <thead>\n",
       "    <tr style=\"text-align: right;\">\n",
       "      <th></th>\n",
       "      <th>Type</th>\n",
       "      <th>Air temperature [K]</th>\n",
       "      <th>Process temperature [K]</th>\n",
       "      <th>Rotational speed [rpm]</th>\n",
       "      <th>Torque [Nm]</th>\n",
       "      <th>Tool wear [min]</th>\n",
       "      <th>Machine failure</th>\n",
       "      <th>TWF</th>\n",
       "      <th>HDF</th>\n",
       "      <th>PWF</th>\n",
       "      <th>OSF</th>\n",
       "      <th>RNF</th>\n",
       "    </tr>\n",
       "  </thead>\n",
       "  <tbody>\n",
       "    <tr>\n",
       "      <th>0</th>\n",
       "      <td>L</td>\n",
       "      <td>300.6</td>\n",
       "      <td>309.6</td>\n",
       "      <td>1596</td>\n",
       "      <td>36.1</td>\n",
       "      <td>140</td>\n",
       "      <td>0</td>\n",
       "      <td>0</td>\n",
       "      <td>0</td>\n",
       "      <td>0</td>\n",
       "      <td>0</td>\n",
       "      <td>0</td>\n",
       "    </tr>\n",
       "    <tr>\n",
       "      <th>1</th>\n",
       "      <td>M</td>\n",
       "      <td>302.6</td>\n",
       "      <td>312.1</td>\n",
       "      <td>1759</td>\n",
       "      <td>29.1</td>\n",
       "      <td>200</td>\n",
       "      <td>0</td>\n",
       "      <td>0</td>\n",
       "      <td>0</td>\n",
       "      <td>0</td>\n",
       "      <td>0</td>\n",
       "      <td>0</td>\n",
       "    </tr>\n",
       "    <tr>\n",
       "      <th>2</th>\n",
       "      <td>L</td>\n",
       "      <td>299.3</td>\n",
       "      <td>308.5</td>\n",
       "      <td>1805</td>\n",
       "      <td>26.5</td>\n",
       "      <td>25</td>\n",
       "      <td>0</td>\n",
       "      <td>0</td>\n",
       "      <td>0</td>\n",
       "      <td>0</td>\n",
       "      <td>0</td>\n",
       "      <td>0</td>\n",
       "    </tr>\n",
       "    <tr>\n",
       "      <th>3</th>\n",
       "      <td>L</td>\n",
       "      <td>301.0</td>\n",
       "      <td>310.9</td>\n",
       "      <td>1524</td>\n",
       "      <td>44.3</td>\n",
       "      <td>197</td>\n",
       "      <td>0</td>\n",
       "      <td>0</td>\n",
       "      <td>0</td>\n",
       "      <td>0</td>\n",
       "      <td>0</td>\n",
       "      <td>0</td>\n",
       "    </tr>\n",
       "    <tr>\n",
       "      <th>4</th>\n",
       "      <td>M</td>\n",
       "      <td>298.0</td>\n",
       "      <td>309.0</td>\n",
       "      <td>1641</td>\n",
       "      <td>35.4</td>\n",
       "      <td>34</td>\n",
       "      <td>0</td>\n",
       "      <td>0</td>\n",
       "      <td>0</td>\n",
       "      <td>0</td>\n",
       "      <td>0</td>\n",
       "      <td>0</td>\n",
       "    </tr>\n",
       "    <tr>\n",
       "      <th>...</th>\n",
       "      <td>...</td>\n",
       "      <td>...</td>\n",
       "      <td>...</td>\n",
       "      <td>...</td>\n",
       "      <td>...</td>\n",
       "      <td>...</td>\n",
       "      <td>...</td>\n",
       "      <td>...</td>\n",
       "      <td>...</td>\n",
       "      <td>...</td>\n",
       "      <td>...</td>\n",
       "      <td>...</td>\n",
       "    </tr>\n",
       "    <tr>\n",
       "      <th>136424</th>\n",
       "      <td>M</td>\n",
       "      <td>300.1</td>\n",
       "      <td>311.4</td>\n",
       "      <td>1530</td>\n",
       "      <td>37.5</td>\n",
       "      <td>210</td>\n",
       "      <td>0</td>\n",
       "      <td>0</td>\n",
       "      <td>0</td>\n",
       "      <td>0</td>\n",
       "      <td>0</td>\n",
       "      <td>0</td>\n",
       "    </tr>\n",
       "    <tr>\n",
       "      <th>136425</th>\n",
       "      <td>H</td>\n",
       "      <td>297.5</td>\n",
       "      <td>308.5</td>\n",
       "      <td>1447</td>\n",
       "      <td>49.1</td>\n",
       "      <td>2</td>\n",
       "      <td>0</td>\n",
       "      <td>0</td>\n",
       "      <td>0</td>\n",
       "      <td>0</td>\n",
       "      <td>0</td>\n",
       "      <td>0</td>\n",
       "    </tr>\n",
       "    <tr>\n",
       "      <th>136426</th>\n",
       "      <td>L</td>\n",
       "      <td>300.5</td>\n",
       "      <td>311.8</td>\n",
       "      <td>1524</td>\n",
       "      <td>38.5</td>\n",
       "      <td>214</td>\n",
       "      <td>0</td>\n",
       "      <td>0</td>\n",
       "      <td>0</td>\n",
       "      <td>0</td>\n",
       "      <td>0</td>\n",
       "      <td>0</td>\n",
       "    </tr>\n",
       "    <tr>\n",
       "      <th>136427</th>\n",
       "      <td>L</td>\n",
       "      <td>301.7</td>\n",
       "      <td>310.9</td>\n",
       "      <td>1447</td>\n",
       "      <td>46.3</td>\n",
       "      <td>42</td>\n",
       "      <td>0</td>\n",
       "      <td>0</td>\n",
       "      <td>0</td>\n",
       "      <td>0</td>\n",
       "      <td>0</td>\n",
       "      <td>0</td>\n",
       "    </tr>\n",
       "    <tr>\n",
       "      <th>136428</th>\n",
       "      <td>L</td>\n",
       "      <td>296.9</td>\n",
       "      <td>308.1</td>\n",
       "      <td>1557</td>\n",
       "      <td>39.3</td>\n",
       "      <td>229</td>\n",
       "      <td>0</td>\n",
       "      <td>0</td>\n",
       "      <td>0</td>\n",
       "      <td>0</td>\n",
       "      <td>0</td>\n",
       "      <td>0</td>\n",
       "    </tr>\n",
       "  </tbody>\n",
       "</table>\n",
       "<p>135273 rows × 12 columns</p>\n",
       "</div>"
      ],
      "text/plain": [
       "       Type  Air temperature [K]  Process temperature [K]  \\\n",
       "0         L                300.6                    309.6   \n",
       "1         M                302.6                    312.1   \n",
       "2         L                299.3                    308.5   \n",
       "3         L                301.0                    310.9   \n",
       "4         M                298.0                    309.0   \n",
       "...     ...                  ...                      ...   \n",
       "136424    M                300.1                    311.4   \n",
       "136425    H                297.5                    308.5   \n",
       "136426    L                300.5                    311.8   \n",
       "136427    L                301.7                    310.9   \n",
       "136428    L                296.9                    308.1   \n",
       "\n",
       "        Rotational speed [rpm]  Torque [Nm]  Tool wear [min]  Machine failure  \\\n",
       "0                         1596         36.1              140                0   \n",
       "1                         1759         29.1              200                0   \n",
       "2                         1805         26.5               25                0   \n",
       "3                         1524         44.3              197                0   \n",
       "4                         1641         35.4               34                0   \n",
       "...                        ...          ...              ...              ...   \n",
       "136424                    1530         37.5              210                0   \n",
       "136425                    1447         49.1                2                0   \n",
       "136426                    1524         38.5              214                0   \n",
       "136427                    1447         46.3               42                0   \n",
       "136428                    1557         39.3              229                0   \n",
       "\n",
       "        TWF  HDF  PWF  OSF  RNF  \n",
       "0         0    0    0    0    0  \n",
       "1         0    0    0    0    0  \n",
       "2         0    0    0    0    0  \n",
       "3         0    0    0    0    0  \n",
       "4         0    0    0    0    0  \n",
       "...     ...  ...  ...  ...  ...  \n",
       "136424    0    0    0    0    0  \n",
       "136425    0    0    0    0    0  \n",
       "136426    0    0    0    0    0  \n",
       "136427    0    0    0    0    0  \n",
       "136428    0    0    0    0    0  \n",
       "\n",
       "[135273 rows x 12 columns]"
      ]
     },
     "execution_count": 12,
     "metadata": {},
     "output_type": "execute_result"
    }
   ],
   "source": [
    "df_train.drop_duplicates()"
   ]
  },
  {
   "cell_type": "code",
   "execution_count": 13,
   "id": "bb919854",
   "metadata": {},
   "outputs": [],
   "source": [
    "# no duplicate present  "
   ]
  },
  {
   "cell_type": "markdown",
   "id": "d551f3ed",
   "metadata": {},
   "source": [
    "# Any Missing Value Present Check "
   ]
  },
  {
   "cell_type": "code",
   "execution_count": 14,
   "id": "2c8284ae",
   "metadata": {},
   "outputs": [
    {
     "data": {
      "text/plain": [
       "Type                       0\n",
       "Air temperature [K]        0\n",
       "Process temperature [K]    0\n",
       "Rotational speed [rpm]     0\n",
       "Torque [Nm]                0\n",
       "Tool wear [min]            0\n",
       "Machine failure            0\n",
       "TWF                        0\n",
       "HDF                        0\n",
       "PWF                        0\n",
       "OSF                        0\n",
       "RNF                        0\n",
       "dtype: int64"
      ]
     },
     "execution_count": 14,
     "metadata": {},
     "output_type": "execute_result"
    }
   ],
   "source": [
    "df_train.isnull().sum()    # no missing value "
   ]
  },
  {
   "cell_type": "code",
   "execution_count": 15,
   "id": "10f06e01",
   "metadata": {},
   "outputs": [],
   "source": [
    "# checking for outliars for each column "
   ]
  },
  {
   "cell_type": "code",
   "execution_count": 16,
   "id": "205a59ae",
   "metadata": {},
   "outputs": [
    {
     "data": {
      "image/png": "[encoded data removed]",
      "text/plain": [
       "<Figure size 432x288 with 1 Axes>"
      ]
     },
     "metadata": {
      "needs_background": "light"
     },
     "output_type": "display_data"
    }
   ],
   "source": [
    "sns.boxplot(x=df_train[\"Tool wear [min]\"])   # no outliar in the column\n",
    "plt.show()"
   ]
  },
  {
   "cell_type": "code",
   "execution_count": 17,
   "id": "f7d24acc",
   "metadata": {},
   "outputs": [
    {
     "data": {
      "image/png": "[encoded data removed]",
      "text/plain": [
       "<Figure size 432x288 with 1 Axes>"
      ]
     },
     "metadata": {
      "needs_background": "light"
     },
     "output_type": "display_data"
    }
   ],
   "source": [
    "sns.boxplot(x=df_train[\"Torque [Nm]\"])    # here we can see outliars but now not treat .here it balance outliars both side\n",
    "plt.show()                                 # no impact on data set dont treat outliars \n"
   ]
  },
  {
   "cell_type": "markdown",
   "id": "8de33b9f",
   "metadata": {},
   "source": [
    "# DATA WRANGLINGS\n",
    "# Pratek column check karacha normal distribvuted ahe ki nahi .nasel tar tyala normal distributed banvacha  "
   ]
  },
  {
   "cell_type": "code",
   "execution_count": 18,
   "id": "3598f303",
   "metadata": {},
   "outputs": [
    {
     "data": {
      "image/png": "[encoded data removed]",
      "text/plain": [
       "<Figure size 360x360 with 1 Axes>"
      ]
     },
     "metadata": {
      "needs_background": "light"
     },
     "output_type": "display_data"
    }
   ],
   "source": [
    "sns.displot(df_train[\"Torque [Nm]\"],kde=True) # torque wala column  norminal distibuted ahe .\n",
    "plt.show()"
   ]
  },
  {
   "cell_type": "code",
   "execution_count": 19,
   "id": "a1dbde91",
   "metadata": {},
   "outputs": [
    {
     "data": {
      "image/png": "[encoded data removed]",
      "text/plain": [
       "<Figure size 360x360 with 1 Axes>"
      ]
     },
     "metadata": {
      "needs_background": "light"
     },
     "output_type": "display_data"
    }
   ],
   "source": [
    "sns.displot(df_train[\"Tool wear [min]\"],kde=True) # ha norminal distributed nahi ahe .mag kai karacha\n",
    "# Tool wear column ha decrete variable ahe yachat skwenss cha concxept nahi yet .###ALERT###\n",
    "# skwness fakta continous variable madhe use hoto .\n",
    "plt.show()"
   ]
  },
  {
   "cell_type": "code",
   "execution_count": 20,
   "id": "43f1f7d9",
   "metadata": {},
   "outputs": [],
   "source": [
    "df_train = pd.get_dummies(df_train,drop_first=True)"
   ]
  },
  {
   "cell_type": "code",
   "execution_count": 21,
   "id": "7f54912e",
   "metadata": {},
   "outputs": [
    {
     "data": {
      "text/html": [
       "<div>\n",
       "<style scoped>\n",
       "    .dataframe tbody tr th:only-of-type {\n",
       "        vertical-align: middle;\n",
       "    }\n",
       "\n",
       "    .dataframe tbody tr th {\n",
       "        vertical-align: top;\n",
       "    }\n",
       "\n",
       "    .dataframe thead th {\n",
       "        text-align: right;\n",
       "    }\n",
       "</style>\n",
       "<table border=\"1\" class=\"dataframe\">\n",
       "  <thead>\n",
       "    <tr style=\"text-align: right;\">\n",
       "      <th></th>\n",
       "      <th>Air temperature [K]</th>\n",
       "      <th>Process temperature [K]</th>\n",
       "      <th>Rotational speed [rpm]</th>\n",
       "      <th>Torque [Nm]</th>\n",
       "      <th>Tool wear [min]</th>\n",
       "      <th>Machine failure</th>\n",
       "      <th>TWF</th>\n",
       "      <th>HDF</th>\n",
       "      <th>PWF</th>\n",
       "      <th>OSF</th>\n",
       "      <th>RNF</th>\n",
       "      <th>Type_L</th>\n",
       "      <th>Type_M</th>\n",
       "    </tr>\n",
       "  </thead>\n",
       "  <tbody>\n",
       "    <tr>\n",
       "      <th>0</th>\n",
       "      <td>300.6</td>\n",
       "      <td>309.6</td>\n",
       "      <td>1596</td>\n",
       "      <td>36.1</td>\n",
       "      <td>140</td>\n",
       "      <td>0</td>\n",
       "      <td>0</td>\n",
       "      <td>0</td>\n",
       "      <td>0</td>\n",
       "      <td>0</td>\n",
       "      <td>0</td>\n",
       "      <td>1</td>\n",
       "      <td>0</td>\n",
       "    </tr>\n",
       "    <tr>\n",
       "      <th>1</th>\n",
       "      <td>302.6</td>\n",
       "      <td>312.1</td>\n",
       "      <td>1759</td>\n",
       "      <td>29.1</td>\n",
       "      <td>200</td>\n",
       "      <td>0</td>\n",
       "      <td>0</td>\n",
       "      <td>0</td>\n",
       "      <td>0</td>\n",
       "      <td>0</td>\n",
       "      <td>0</td>\n",
       "      <td>0</td>\n",
       "      <td>1</td>\n",
       "    </tr>\n",
       "    <tr>\n",
       "      <th>2</th>\n",
       "      <td>299.3</td>\n",
       "      <td>308.5</td>\n",
       "      <td>1805</td>\n",
       "      <td>26.5</td>\n",
       "      <td>25</td>\n",
       "      <td>0</td>\n",
       "      <td>0</td>\n",
       "      <td>0</td>\n",
       "      <td>0</td>\n",
       "      <td>0</td>\n",
       "      <td>0</td>\n",
       "      <td>1</td>\n",
       "      <td>0</td>\n",
       "    </tr>\n",
       "    <tr>\n",
       "      <th>3</th>\n",
       "      <td>301.0</td>\n",
       "      <td>310.9</td>\n",
       "      <td>1524</td>\n",
       "      <td>44.3</td>\n",
       "      <td>197</td>\n",
       "      <td>0</td>\n",
       "      <td>0</td>\n",
       "      <td>0</td>\n",
       "      <td>0</td>\n",
       "      <td>0</td>\n",
       "      <td>0</td>\n",
       "      <td>1</td>\n",
       "      <td>0</td>\n",
       "    </tr>\n",
       "    <tr>\n",
       "      <th>4</th>\n",
       "      <td>298.0</td>\n",
       "      <td>309.0</td>\n",
       "      <td>1641</td>\n",
       "      <td>35.4</td>\n",
       "      <td>34</td>\n",
       "      <td>0</td>\n",
       "      <td>0</td>\n",
       "      <td>0</td>\n",
       "      <td>0</td>\n",
       "      <td>0</td>\n",
       "      <td>0</td>\n",
       "      <td>0</td>\n",
       "      <td>1</td>\n",
       "    </tr>\n",
       "    <tr>\n",
       "      <th>...</th>\n",
       "      <td>...</td>\n",
       "      <td>...</td>\n",
       "      <td>...</td>\n",
       "      <td>...</td>\n",
       "      <td>...</td>\n",
       "      <td>...</td>\n",
       "      <td>...</td>\n",
       "      <td>...</td>\n",
       "      <td>...</td>\n",
       "      <td>...</td>\n",
       "      <td>...</td>\n",
       "      <td>...</td>\n",
       "      <td>...</td>\n",
       "    </tr>\n",
       "    <tr>\n",
       "      <th>136424</th>\n",
       "      <td>300.1</td>\n",
       "      <td>311.4</td>\n",
       "      <td>1530</td>\n",
       "      <td>37.5</td>\n",
       "      <td>210</td>\n",
       "      <td>0</td>\n",
       "      <td>0</td>\n",
       "      <td>0</td>\n",
       "      <td>0</td>\n",
       "      <td>0</td>\n",
       "      <td>0</td>\n",
       "      <td>0</td>\n",
       "      <td>1</td>\n",
       "    </tr>\n",
       "    <tr>\n",
       "      <th>136425</th>\n",
       "      <td>297.5</td>\n",
       "      <td>308.5</td>\n",
       "      <td>1447</td>\n",
       "      <td>49.1</td>\n",
       "      <td>2</td>\n",
       "      <td>0</td>\n",
       "      <td>0</td>\n",
       "      <td>0</td>\n",
       "      <td>0</td>\n",
       "      <td>0</td>\n",
       "      <td>0</td>\n",
       "      <td>0</td>\n",
       "      <td>0</td>\n",
       "    </tr>\n",
       "    <tr>\n",
       "      <th>136426</th>\n",
       "      <td>300.5</td>\n",
       "      <td>311.8</td>\n",
       "      <td>1524</td>\n",
       "      <td>38.5</td>\n",
       "      <td>214</td>\n",
       "      <td>0</td>\n",
       "      <td>0</td>\n",
       "      <td>0</td>\n",
       "      <td>0</td>\n",
       "      <td>0</td>\n",
       "      <td>0</td>\n",
       "      <td>1</td>\n",
       "      <td>0</td>\n",
       "    </tr>\n",
       "    <tr>\n",
       "      <th>136427</th>\n",
       "      <td>301.7</td>\n",
       "      <td>310.9</td>\n",
       "      <td>1447</td>\n",
       "      <td>46.3</td>\n",
       "      <td>42</td>\n",
       "      <td>0</td>\n",
       "      <td>0</td>\n",
       "      <td>0</td>\n",
       "      <td>0</td>\n",
       "      <td>0</td>\n",
       "      <td>0</td>\n",
       "      <td>1</td>\n",
       "      <td>0</td>\n",
       "    </tr>\n",
       "    <tr>\n",
       "      <th>136428</th>\n",
       "      <td>296.9</td>\n",
       "      <td>308.1</td>\n",
       "      <td>1557</td>\n",
       "      <td>39.3</td>\n",
       "      <td>229</td>\n",
       "      <td>0</td>\n",
       "      <td>0</td>\n",
       "      <td>0</td>\n",
       "      <td>0</td>\n",
       "      <td>0</td>\n",
       "      <td>0</td>\n",
       "      <td>1</td>\n",
       "      <td>0</td>\n",
       "    </tr>\n",
       "  </tbody>\n",
       "</table>\n",
       "<p>136429 rows × 13 columns</p>\n",
       "</div>"
      ],
      "text/plain": [
       "        Air temperature [K]  Process temperature [K]  Rotational speed [rpm]  \\\n",
       "0                     300.6                    309.6                    1596   \n",
       "1                     302.6                    312.1                    1759   \n",
       "2                     299.3                    308.5                    1805   \n",
       "3                     301.0                    310.9                    1524   \n",
       "4                     298.0                    309.0                    1641   \n",
       "...                     ...                      ...                     ...   \n",
       "136424                300.1                    311.4                    1530   \n",
       "136425                297.5                    308.5                    1447   \n",
       "136426                300.5                    311.8                    1524   \n",
       "136427                301.7                    310.9                    1447   \n",
       "136428                296.9                    308.1                    1557   \n",
       "\n",
       "        Torque [Nm]  Tool wear [min]  Machine failure  TWF  HDF  PWF  OSF  \\\n",
       "0              36.1              140                0    0    0    0    0   \n",
       "1              29.1              200                0    0    0    0    0   \n",
       "2              26.5               25                0    0    0    0    0   \n",
       "3              44.3              197                0    0    0    0    0   \n",
       "4              35.4               34                0    0    0    0    0   \n",
       "...             ...              ...              ...  ...  ...  ...  ...   \n",
       "136424         37.5              210                0    0    0    0    0   \n",
       "136425         49.1                2                0    0    0    0    0   \n",
       "136426         38.5              214                0    0    0    0    0   \n",
       "136427         46.3               42                0    0    0    0    0   \n",
       "136428         39.3              229                0    0    0    0    0   \n",
       "\n",
       "        RNF  Type_L  Type_M  \n",
       "0         0       1       0  \n",
       "1         0       0       1  \n",
       "2         0       1       0  \n",
       "3         0       1       0  \n",
       "4         0       0       1  \n",
       "...     ...     ...     ...  \n",
       "136424    0       0       1  \n",
       "136425    0       0       0  \n",
       "136426    0       1       0  \n",
       "136427    0       1       0  \n",
       "136428    0       1       0  \n",
       "\n",
       "[136429 rows x 13 columns]"
      ]
     },
     "execution_count": 21,
     "metadata": {},
     "output_type": "execute_result"
    }
   ],
   "source": [
    "df_train "
   ]
  },
  {
   "cell_type": "code",
   "execution_count": 22,
   "id": "0b3d8428",
   "metadata": {},
   "outputs": [],
   "source": [
    "x = df_train.drop(\"Machine failure\",axis=1)\n",
    "y = df_train['Machine failure']"
   ]
  },
  {
   "cell_type": "code",
   "execution_count": 23,
   "id": "5e94af19",
   "metadata": {},
   "outputs": [
    {
     "data": {
      "text/html": [
       "<div>\n",
       "<style scoped>\n",
       "    .dataframe tbody tr th:only-of-type {\n",
       "        vertical-align: middle;\n",
       "    }\n",
       "\n",
       "    .dataframe tbody tr th {\n",
       "        vertical-align: top;\n",
       "    }\n",
       "\n",
       "    .dataframe thead th {\n",
       "        text-align: right;\n",
       "    }\n",
       "</style>\n",
       "<table border=\"1\" class=\"dataframe\">\n",
       "  <thead>\n",
       "    <tr style=\"text-align: right;\">\n",
       "      <th></th>\n",
       "      <th>Air temperature [K]</th>\n",
       "      <th>Process temperature [K]</th>\n",
       "      <th>Rotational speed [rpm]</th>\n",
       "      <th>Torque [Nm]</th>\n",
       "      <th>Tool wear [min]</th>\n",
       "      <th>TWF</th>\n",
       "      <th>HDF</th>\n",
       "      <th>PWF</th>\n",
       "      <th>OSF</th>\n",
       "      <th>RNF</th>\n",
       "      <th>Type_L</th>\n",
       "      <th>Type_M</th>\n",
       "    </tr>\n",
       "  </thead>\n",
       "  <tbody>\n",
       "    <tr>\n",
       "      <th>0</th>\n",
       "      <td>300.6</td>\n",
       "      <td>309.6</td>\n",
       "      <td>1596</td>\n",
       "      <td>36.1</td>\n",
       "      <td>140</td>\n",
       "      <td>0</td>\n",
       "      <td>0</td>\n",
       "      <td>0</td>\n",
       "      <td>0</td>\n",
       "      <td>0</td>\n",
       "      <td>1</td>\n",
       "      <td>0</td>\n",
       "    </tr>\n",
       "    <tr>\n",
       "      <th>1</th>\n",
       "      <td>302.6</td>\n",
       "      <td>312.1</td>\n",
       "      <td>1759</td>\n",
       "      <td>29.1</td>\n",
       "      <td>200</td>\n",
       "      <td>0</td>\n",
       "      <td>0</td>\n",
       "      <td>0</td>\n",
       "      <td>0</td>\n",
       "      <td>0</td>\n",
       "      <td>0</td>\n",
       "      <td>1</td>\n",
       "    </tr>\n",
       "    <tr>\n",
       "      <th>2</th>\n",
       "      <td>299.3</td>\n",
       "      <td>308.5</td>\n",
       "      <td>1805</td>\n",
       "      <td>26.5</td>\n",
       "      <td>25</td>\n",
       "      <td>0</td>\n",
       "      <td>0</td>\n",
       "      <td>0</td>\n",
       "      <td>0</td>\n",
       "      <td>0</td>\n",
       "      <td>1</td>\n",
       "      <td>0</td>\n",
       "    </tr>\n",
       "    <tr>\n",
       "      <th>3</th>\n",
       "      <td>301.0</td>\n",
       "      <td>310.9</td>\n",
       "      <td>1524</td>\n",
       "      <td>44.3</td>\n",
       "      <td>197</td>\n",
       "      <td>0</td>\n",
       "      <td>0</td>\n",
       "      <td>0</td>\n",
       "      <td>0</td>\n",
       "      <td>0</td>\n",
       "      <td>1</td>\n",
       "      <td>0</td>\n",
       "    </tr>\n",
       "    <tr>\n",
       "      <th>4</th>\n",
       "      <td>298.0</td>\n",
       "      <td>309.0</td>\n",
       "      <td>1641</td>\n",
       "      <td>35.4</td>\n",
       "      <td>34</td>\n",
       "      <td>0</td>\n",
       "      <td>0</td>\n",
       "      <td>0</td>\n",
       "      <td>0</td>\n",
       "      <td>0</td>\n",
       "      <td>0</td>\n",
       "      <td>1</td>\n",
       "    </tr>\n",
       "    <tr>\n",
       "      <th>...</th>\n",
       "      <td>...</td>\n",
       "      <td>...</td>\n",
       "      <td>...</td>\n",
       "      <td>...</td>\n",
       "      <td>...</td>\n",
       "      <td>...</td>\n",
       "      <td>...</td>\n",
       "      <td>...</td>\n",
       "      <td>...</td>\n",
       "      <td>...</td>\n",
       "      <td>...</td>\n",
       "      <td>...</td>\n",
       "    </tr>\n",
       "    <tr>\n",
       "      <th>136424</th>\n",
       "      <td>300.1</td>\n",
       "      <td>311.4</td>\n",
       "      <td>1530</td>\n",
       "      <td>37.5</td>\n",
       "      <td>210</td>\n",
       "      <td>0</td>\n",
       "      <td>0</td>\n",
       "      <td>0</td>\n",
       "      <td>0</td>\n",
       "      <td>0</td>\n",
       "      <td>0</td>\n",
       "      <td>1</td>\n",
       "    </tr>\n",
       "    <tr>\n",
       "      <th>136425</th>\n",
       "      <td>297.5</td>\n",
       "      <td>308.5</td>\n",
       "      <td>1447</td>\n",
       "      <td>49.1</td>\n",
       "      <td>2</td>\n",
       "      <td>0</td>\n",
       "      <td>0</td>\n",
       "      <td>0</td>\n",
       "      <td>0</td>\n",
       "      <td>0</td>\n",
       "      <td>0</td>\n",
       "      <td>0</td>\n",
       "    </tr>\n",
       "    <tr>\n",
       "      <th>136426</th>\n",
       "      <td>300.5</td>\n",
       "      <td>311.8</td>\n",
       "      <td>1524</td>\n",
       "      <td>38.5</td>\n",
       "      <td>214</td>\n",
       "      <td>0</td>\n",
       "      <td>0</td>\n",
       "      <td>0</td>\n",
       "      <td>0</td>\n",
       "      <td>0</td>\n",
       "      <td>1</td>\n",
       "      <td>0</td>\n",
       "    </tr>\n",
       "    <tr>\n",
       "      <th>136427</th>\n",
       "      <td>301.7</td>\n",
       "      <td>310.9</td>\n",
       "      <td>1447</td>\n",
       "      <td>46.3</td>\n",
       "      <td>42</td>\n",
       "      <td>0</td>\n",
       "      <td>0</td>\n",
       "      <td>0</td>\n",
       "      <td>0</td>\n",
       "      <td>0</td>\n",
       "      <td>1</td>\n",
       "      <td>0</td>\n",
       "    </tr>\n",
       "    <tr>\n",
       "      <th>136428</th>\n",
       "      <td>296.9</td>\n",
       "      <td>308.1</td>\n",
       "      <td>1557</td>\n",
       "      <td>39.3</td>\n",
       "      <td>229</td>\n",
       "      <td>0</td>\n",
       "      <td>0</td>\n",
       "      <td>0</td>\n",
       "      <td>0</td>\n",
       "      <td>0</td>\n",
       "      <td>1</td>\n",
       "      <td>0</td>\n",
       "    </tr>\n",
       "  </tbody>\n",
       "</table>\n",
       "<p>136429 rows × 12 columns</p>\n",
       "</div>"
      ],
      "text/plain": [
       "        Air temperature [K]  Process temperature [K]  Rotational speed [rpm]  \\\n",
       "0                     300.6                    309.6                    1596   \n",
       "1                     302.6                    312.1                    1759   \n",
       "2                     299.3                    308.5                    1805   \n",
       "3                     301.0                    310.9                    1524   \n",
       "4                     298.0                    309.0                    1641   \n",
       "...                     ...                      ...                     ...   \n",
       "136424                300.1                    311.4                    1530   \n",
       "136425                297.5                    308.5                    1447   \n",
       "136426                300.5                    311.8                    1524   \n",
       "136427                301.7                    310.9                    1447   \n",
       "136428                296.9                    308.1                    1557   \n",
       "\n",
       "        Torque [Nm]  Tool wear [min]  TWF  HDF  PWF  OSF  RNF  Type_L  Type_M  \n",
       "0              36.1              140    0    0    0    0    0       1       0  \n",
       "1              29.1              200    0    0    0    0    0       0       1  \n",
       "2              26.5               25    0    0    0    0    0       1       0  \n",
       "3              44.3              197    0    0    0    0    0       1       0  \n",
       "4              35.4               34    0    0    0    0    0       0       1  \n",
       "...             ...              ...  ...  ...  ...  ...  ...     ...     ...  \n",
       "136424         37.5              210    0    0    0    0    0       0       1  \n",
       "136425         49.1                2    0    0    0    0    0       0       0  \n",
       "136426         38.5              214    0    0    0    0    0       1       0  \n",
       "136427         46.3               42    0    0    0    0    0       1       0  \n",
       "136428         39.3              229    0    0    0    0    0       1       0  \n",
       "\n",
       "[136429 rows x 12 columns]"
      ]
     },
     "execution_count": 23,
     "metadata": {},
     "output_type": "execute_result"
    }
   ],
   "source": [
    "x"
   ]
  },
  {
   "cell_type": "code",
   "execution_count": 24,
   "id": "050db3f6",
   "metadata": {},
   "outputs": [
    {
     "data": {
      "text/plain": [
       "0         0\n",
       "1         0\n",
       "2         0\n",
       "3         0\n",
       "4         0\n",
       "         ..\n",
       "136424    0\n",
       "136425    0\n",
       "136426    0\n",
       "136427    0\n",
       "136428    0\n",
       "Name: Machine failure, Length: 136429, dtype: int64"
      ]
     },
     "execution_count": 24,
     "metadata": {},
     "output_type": "execute_result"
    }
   ],
   "source": [
    "y"
   ]
  },
  {
   "cell_type": "code",
   "execution_count": 25,
   "id": "0c7f6ea5",
   "metadata": {},
   "outputs": [],
   "source": [
    "# Train & Test Split\n",
    "from sklearn.model_selection import train_test_split\n",
    "x_train,x_test,y_train,y_test = train_test_split(x,y,test_size=0.2,random_state=9)"
   ]
  },
  {
   "cell_type": "code",
   "execution_count": 26,
   "id": "7e3686bf",
   "metadata": {},
   "outputs": [],
   "source": [
    "# Scaling Data\n",
    "from sklearn.preprocessing import StandardScaler\n",
    "scaler = StandardScaler()\n",
    "x_train = scaler.fit_transform(x_train)\n",
    "x_test = scaler.transform(x_test)"
   ]
  },
  {
   "cell_type": "markdown",
   "id": "48e0478a",
   "metadata": {},
   "source": [
    "# Modelling Logistic Regression (Baseline Model)"
   ]
  },
  {
   "cell_type": "code",
   "execution_count": 27,
   "id": "b23402c3",
   "metadata": {},
   "outputs": [
    {
     "data": {
      "text/plain": [
       "LogisticRegression()"
      ]
     },
     "execution_count": 27,
     "metadata": {},
     "output_type": "execute_result"
    }
   ],
   "source": [
    "from sklearn.linear_model import LogisticRegression\n",
    "log_model = LogisticRegression()\n",
    "log_model.fit(x_train,y_train)"
   ]
  },
  {
   "cell_type": "code",
   "execution_count": 28,
   "id": "3e60ee80",
   "metadata": {},
   "outputs": [],
   "source": [
    "# Prediction\n",
    "ypred_train= log_model.predict(x_train)\n",
    "ypred_test =log_model.predict (x_test)"
   ]
  },
  {
   "cell_type": "code",
   "execution_count": 29,
   "id": "f48b90e1",
   "metadata": {},
   "outputs": [
    {
     "name": "stdout",
     "output_type": "stream",
     "text": [
      "train accuracy 0.9959777539558194\n",
      "test accuracy 0.9969214982042073\n"
     ]
    }
   ],
   "source": [
    "# Evalution\n",
    "from sklearn.metrics import accuracy_score\n",
    "print(\"train accuracy\",accuracy_score(y_train,ypred_train))\n",
    "print(\"test accuracy\",accuracy_score(y_test,ypred_test))"
   ]
  },
  {
   "cell_type": "code",
   "execution_count": 30,
   "id": "acdcfd47",
   "metadata": {},
   "outputs": [
    {
     "name": "stdout",
     "output_type": "stream",
     "text": [
      "[0.99530895 0.99604193 0.98680642 0.99508906 0.99497893]\n"
     ]
    },
    {
     "data": {
      "text/plain": [
       "0.993645055918245"
      ]
     },
     "execution_count": 30,
     "metadata": {},
     "output_type": "execute_result"
    }
   ],
   "source": [
    "# Cross Validation\n",
    "from sklearn.model_selection import cross_val_score  # cv score\n",
    "scores = cross_val_score(log_model,x,y,cv=5)\n",
    "print(scores)\n",
    "scores.mean()"
   ]
  },
  {
   "cell_type": "markdown",
   "id": "10038508",
   "metadata": {},
   "source": [
    "# Confusion Matrix"
   ]
  },
  {
   "cell_type": "code",
   "execution_count": 31,
   "id": "f24ab7ff",
   "metadata": {},
   "outputs": [
    {
     "data": {
      "text/plain": [
       "array([[26849,     2],\n",
       "       [   82,   353]], dtype=int64)"
      ]
     },
     "execution_count": 31,
     "metadata": {},
     "output_type": "execute_result"
    }
   ],
   "source": [
    "from sklearn.metrics import confusion_matrix\n",
    "confusion_matrix(y_test,ypred_test)"
   ]
  },
  {
   "cell_type": "code",
   "execution_count": 32,
   "id": "71a6288d",
   "metadata": {},
   "outputs": [
    {
     "name": "stdout",
     "output_type": "stream",
     "text": [
      "              precision    recall  f1-score   support\n",
      "\n",
      "           0       1.00      1.00      1.00     26851\n",
      "           1       0.99      0.81      0.89       435\n",
      "\n",
      "    accuracy                           1.00     27286\n",
      "   macro avg       1.00      0.91      0.95     27286\n",
      "weighted avg       1.00      1.00      1.00     27286\n",
      "\n"
     ]
    }
   ],
   "source": [
    "from sklearn.metrics import classification_report\n",
    "print(classification_report(y_test,ypred_test))"
   ]
  },
  {
   "cell_type": "code",
   "execution_count": 33,
   "id": "08c64602",
   "metadata": {},
   "outputs": [
    {
     "data": {
      "image/png": "[encoded data removed]",
      "text/plain": [
       "<Figure size 432x288 with 1 Axes>"
      ]
     },
     "metadata": {
      "needs_background": "light"
     },
     "output_type": "display_data"
    }
   ],
   "source": [
    "from sklearn.metrics import plot_roc_curve\n",
    "plot_roc_curve(log_model,x_test,y_test)\n",
    "plt.show()"
   ]
  },
  {
   "cell_type": "code",
   "execution_count": 34,
   "id": "cd429a7b",
   "metadata": {},
   "outputs": [],
   "source": [
    "# Here no hyperparameter tunning it is a base model of classification.\n",
    "# AUC HIGH MEANS BETTER THE MODEL\n"
   ]
  },
  {
   "cell_type": "markdown",
   "id": "40027e11",
   "metadata": {},
   "source": [
    "# 2) KNN MODEL "
   ]
  },
  {
   "cell_type": "markdown",
   "id": "dd9087b4",
   "metadata": {},
   "source": [
    "# KNN MODEL with deafault parameter "
   ]
  },
  {
   "cell_type": "code",
   "execution_count": 35,
   "id": "340aed4a",
   "metadata": {},
   "outputs": [],
   "source": [
    "# Default Modelling\n",
    "# from sklearn.neighbors import KNeighborsClassifier\n",
    "# knn_model= KNeighborsClassifier()\n",
    "# knn_model.fit(x_train,y_train)"
   ]
  },
  {
   "cell_type": "markdown",
   "id": "06b40211",
   "metadata": {},
   "source": [
    "# 3) SVM ( Support Vector Machines)"
   ]
  },
  {
   "cell_type": "code",
   "execution_count": 36,
   "id": "d5109d66",
   "metadata": {},
   "outputs": [],
   "source": [
    "# with default parameters"
   ]
  },
  {
   "cell_type": "code",
   "execution_count": 37,
   "id": "557ce877",
   "metadata": {},
   "outputs": [],
   "source": [
    "# Modelling\n",
    "# from sklearn.svm import SVC\n",
    "#svm_model = SVC()\n",
    "# svm_model.fit(x_train,y_train)"
   ]
  },
  {
   "cell_type": "code",
   "execution_count": 38,
   "id": "f8774758",
   "metadata": {},
   "outputs": [],
   "source": [
    "# prediction\n",
    "#ypred_train= svm_model.predict(x_train)\n",
    "#ypred_test = svm_model.predict (x_test)"
   ]
  },
  {
   "cell_type": "code",
   "execution_count": 39,
   "id": "8c5086f1",
   "metadata": {},
   "outputs": [],
   "source": [
    "# accuracy \n",
    "# Evalution\n",
    "#from sklearn.metrics import accuracy_score\n",
    "#print(\"train accuracy\",accuracy_score(y_train,ypred_train))\n",
    "#print(\"test accuracy\",accuracy_score(y_test,ypred_test))"
   ]
  },
  {
   "cell_type": "code",
   "execution_count": 40,
   "id": "348cef8c",
   "metadata": {},
   "outputs": [],
   "source": [
    "# importances = svm_model.feature_importances_   # svm madhe feature importance wala function nahi ahe fakt decision tree\n",
    "                                                 # madhe ahe .trees madhe use honar "
   ]
  },
  {
   "cell_type": "markdown",
   "id": "cb2ff632",
   "metadata": {},
   "source": [
    "# SVM Model With Hyperparameter Tunning"
   ]
  },
  {
   "cell_type": "code",
   "execution_count": 41,
   "id": "b16d3c1f",
   "metadata": {},
   "outputs": [],
   "source": [
    "#from sklearn.model_selection import GridSearchCV\n",
    "\n",
    "#estimator = SVC()\n",
    "\n",
    "#param_grid = {'C':[0.01,0.1],'kernel':['linear','rbf','sigmoid','poly']} # C mottha c pahije \n",
    "\n",
    "#grid = GridSearchCV(estimator,param_grid,cv=5)\n",
    "\n",
    "#grid.fit(x_train,y_train)\n",
    "\n",
    "# yacha hyper tunning la vel lagto karan data set motha ahe manun.cancel hyper para meter tunning ."
   ]
  },
  {
   "cell_type": "code",
   "execution_count": 42,
   "id": "a909cceb",
   "metadata": {},
   "outputs": [],
   "source": [
    "# now we using Decision Trees "
   ]
  },
  {
   "cell_type": "markdown",
   "id": "b4f1fd92",
   "metadata": {},
   "source": [
    "# DECISION TREE"
   ]
  },
  {
   "cell_type": "code",
   "execution_count": 43,
   "id": "62e3cc7c",
   "metadata": {},
   "outputs": [
    {
     "data": {
      "text/plain": [
       "DecisionTreeClassifier()"
      ]
     },
     "execution_count": 43,
     "metadata": {},
     "output_type": "execute_result"
    }
   ],
   "source": [
    "from sklearn.tree import DecisionTreeClassifier\n",
    "dt_model = DecisionTreeClassifier()\n",
    "dt_model.fit(x_train,y_train)"
   ]
  },
  {
   "cell_type": "code",
   "execution_count": 44,
   "id": "47f62954",
   "metadata": {},
   "outputs": [],
   "source": [
    "# prediction\n",
    "ypred_train= dt_model.predict(x_train)\n",
    "ypred_test = dt_model.predict (x_test)"
   ]
  },
  {
   "cell_type": "code",
   "execution_count": 45,
   "id": "7552c586",
   "metadata": {},
   "outputs": [
    {
     "name": "stdout",
     "output_type": "stream",
     "text": [
      "train accuracy 0.9998259164582245\n",
      "test accuracy 0.9918639595396906\n"
     ]
    }
   ],
   "source": [
    "# accuracy \n",
    "# Evalution\n",
    "from sklearn.metrics import accuracy_score\n",
    "print(\"train accuracy\",accuracy_score(y_train,ypred_train))\n",
    "print(\"test accuracy\",accuracy_score(y_test,ypred_test))"
   ]
  },
  {
   "cell_type": "code",
   "execution_count": 46,
   "id": "a470bc40",
   "metadata": {},
   "outputs": [
    {
     "name": "stdout",
     "output_type": "stream",
     "text": [
      "[0.99186396 0.99168072 0.9921205  0.99256029 0.99179036]\n"
     ]
    },
    {
     "data": {
      "text/plain": [
       "0.9920031649223852"
      ]
     },
     "execution_count": 46,
     "metadata": {},
     "output_type": "execute_result"
    }
   ],
   "source": [
    "# Cross Validation\n",
    "from sklearn.model_selection import cross_val_score  # cv score\n",
    "scores = cross_val_score(dt_model,x,y,cv=5)\n",
    "print(scores)\n",
    "scores.mean()"
   ]
  },
  {
   "cell_type": "code",
   "execution_count": 47,
   "id": "5d13408f",
   "metadata": {},
   "outputs": [
    {
     "data": {
      "text/plain": [
       "array([0.03276628, 0.04371953, 0.0553921 , 0.05845878, 0.05233082,\n",
       "       0.08338985, 0.31847519, 0.12404273, 0.22100358, 0.        ,\n",
       "       0.00338412, 0.00703702])"
      ]
     },
     "execution_count": 47,
     "metadata": {},
     "output_type": "execute_result"
    }
   ],
   "source": [
    "dt_model.feature_importances_"
   ]
  },
  {
   "cell_type": "code",
   "execution_count": 48,
   "id": "1b53d9f3",
   "metadata": {},
   "outputs": [
    {
     "data": {
      "text/html": [
       "<div>\n",
       "<style scoped>\n",
       "    .dataframe tbody tr th:only-of-type {\n",
       "        vertical-align: middle;\n",
       "    }\n",
       "\n",
       "    .dataframe tbody tr th {\n",
       "        vertical-align: top;\n",
       "    }\n",
       "\n",
       "    .dataframe thead th {\n",
       "        text-align: right;\n",
       "    }\n",
       "</style>\n",
       "<table border=\"1\" class=\"dataframe\">\n",
       "  <thead>\n",
       "    <tr style=\"text-align: right;\">\n",
       "      <th></th>\n",
       "      <th>Feature Importance</th>\n",
       "    </tr>\n",
       "  </thead>\n",
       "  <tbody>\n",
       "    <tr>\n",
       "      <th>Air temperature [K]</th>\n",
       "      <td>0.032766</td>\n",
       "    </tr>\n",
       "    <tr>\n",
       "      <th>Process temperature [K]</th>\n",
       "      <td>0.043720</td>\n",
       "    </tr>\n",
       "    <tr>\n",
       "      <th>Rotational speed [rpm]</th>\n",
       "      <td>0.055392</td>\n",
       "    </tr>\n",
       "    <tr>\n",
       "      <th>Torque [Nm]</th>\n",
       "      <td>0.058459</td>\n",
       "    </tr>\n",
       "    <tr>\n",
       "      <th>Tool wear [min]</th>\n",
       "      <td>0.052331</td>\n",
       "    </tr>\n",
       "    <tr>\n",
       "      <th>TWF</th>\n",
       "      <td>0.083390</td>\n",
       "    </tr>\n",
       "    <tr>\n",
       "      <th>HDF</th>\n",
       "      <td>0.318475</td>\n",
       "    </tr>\n",
       "    <tr>\n",
       "      <th>PWF</th>\n",
       "      <td>0.124043</td>\n",
       "    </tr>\n",
       "    <tr>\n",
       "      <th>OSF</th>\n",
       "      <td>0.221004</td>\n",
       "    </tr>\n",
       "    <tr>\n",
       "      <th>RNF</th>\n",
       "      <td>0.000000</td>\n",
       "    </tr>\n",
       "    <tr>\n",
       "      <th>Type_L</th>\n",
       "      <td>0.003384</td>\n",
       "    </tr>\n",
       "    <tr>\n",
       "      <th>Type_M</th>\n",
       "      <td>0.007037</td>\n",
       "    </tr>\n",
       "  </tbody>\n",
       "</table>\n",
       "</div>"
      ],
      "text/plain": [
       "                         Feature Importance\n",
       "Air temperature [K]                0.032766\n",
       "Process temperature [K]            0.043720\n",
       "Rotational speed [rpm]             0.055392\n",
       "Torque [Nm]                        0.058459\n",
       "Tool wear [min]                    0.052331\n",
       "TWF                                0.083390\n",
       "HDF                                0.318475\n",
       "PWF                                0.124043\n",
       "OSF                                0.221004\n",
       "RNF                                0.000000\n",
       "Type_L                             0.003384\n",
       "Type_M                             0.007037"
      ]
     },
     "execution_count": 48,
     "metadata": {},
     "output_type": "execute_result"
    }
   ],
   "source": [
    "pd.DataFrame(index=x.columns,data=dt_model.feature_importances_,columns=['Feature Importance' ])"
   ]
  },
  {
   "cell_type": "code",
   "execution_count": 49,
   "id": "83fd41ba",
   "metadata": {},
   "outputs": [],
   "source": [
    "#   x = df_train.drop(\"RNF\",axis=1)"
   ]
  },
  {
   "cell_type": "markdown",
   "id": "a4ff4b9f",
   "metadata": {},
   "source": [
    "# Decision Tree Hperparameter  "
   ]
  },
  {
   "cell_type": "code",
   "execution_count": 50,
   "id": "eb96f02e",
   "metadata": {},
   "outputs": [
    {
     "data": {
      "text/plain": [
       "{'criterion': 'gini', 'max_depth': 4}"
      ]
     },
     "execution_count": 50,
     "metadata": {},
     "output_type": "execute_result"
    }
   ],
   "source": [
    "from sklearn.model_selection import GridSearchCV\n",
    "\n",
    "estimator = DecisionTreeClassifier(random_state=9)\n",
    "\n",
    "param_grid = {'criterion': [\"gini\", \"entropy\"],\n",
    "              'max_depth':[1,2,3,4,5]} \n",
    "\n",
    "grid = GridSearchCV(estimator,param_grid,cv=5)\n",
    "\n",
    "grid.fit(x_train,y_train)\n",
    "\n",
    "grid.best_params_"
   ]
  },
  {
   "cell_type": "markdown",
   "id": "e81ae5f2",
   "metadata": {},
   "source": [
    "# Final Decision Tress Model"
   ]
  },
  {
   "cell_type": "code",
   "execution_count": 51,
   "id": "af166072",
   "metadata": {},
   "outputs": [
    {
     "name": "stdout",
     "output_type": "stream",
     "text": [
      "train accuracy 1.0\n",
      "test accuracy 1.0\n",
      "[1. 1. 1. 1. 1.]\n"
     ]
    },
    {
     "data": {
      "text/plain": [
       "1.0"
      ]
     },
     "execution_count": 51,
     "metadata": {},
     "output_type": "execute_result"
    }
   ],
   "source": [
    "x = df_train.drop(\"RNF\",axis=1) # VARIABLE CH NAAV CHANGE KAR ALL PROBLEM SOLVE EASILY.\n",
    "x_train,x_test,y_train,y_test = train_test_split(x,y,test_size=0.2,random_state=9)    \n",
    "bestdt_model = DecisionTreeClassifier(criterion = 'gini',max_depth = 3,random_state=9)\n",
    "bestdt_model.fit(x_train,y_train)\n",
    "ypred_train= bestdt_model.predict(x_train)\n",
    "ypred_test = bestdt_model.predict (x_test)\n",
    "print(\"train accuracy\",accuracy_score(y_train,ypred_train))\n",
    "print(\"test accuracy\",accuracy_score(y_test,ypred_test))\n",
    "scores = cross_val_score(bestdt_model,x,y,cv=5)\n",
    "print(scores)\n",
    "scores.mean()"
   ]
  },
  {
   "cell_type": "code",
   "execution_count": 52,
   "id": "f2efce7b",
   "metadata": {},
   "outputs": [],
   "source": [
    "# Ha decision trees cha aatapryant cha sarvat best model ahe"
   ]
  },
  {
   "cell_type": "markdown",
   "id": "a87f0dc5",
   "metadata": {},
   "source": [
    "# Random forest modelling with default parameter"
   ]
  },
  {
   "cell_type": "code",
   "execution_count": 53,
   "id": "739c682c",
   "metadata": {},
   "outputs": [
    {
     "data": {
      "text/plain": [
       "RandomForestClassifier()"
      ]
     },
     "execution_count": 53,
     "metadata": {},
     "output_type": "execute_result"
    }
   ],
   "source": [
    "from sklearn.ensemble import RandomForestClassifier\n",
    "\n",
    "rf_model = RandomForestClassifier()\n",
    "rf_model.fit(x_train,y_train)"
   ]
  },
  {
   "cell_type": "code",
   "execution_count": 54,
   "id": "5442c08d",
   "metadata": {},
   "outputs": [],
   "source": [
    "ypred_train= rf_model.predict(x_train)\n",
    "ypred_test = rf_model.predict (x_test)"
   ]
  },
  {
   "cell_type": "code",
   "execution_count": 55,
   "id": "b66c7412",
   "metadata": {},
   "outputs": [
    {
     "name": "stdout",
     "output_type": "stream",
     "text": [
      "train accuracy 1.0\n",
      "test accuracy 1.0\n"
     ]
    }
   ],
   "source": [
    "# accuracy \n",
    "# Evalution\n",
    "from sklearn.metrics import accuracy_score\n",
    "print(\"train accuracy\",accuracy_score(y_train,ypred_train))\n",
    "print(\"test accuracy\",accuracy_score(y_test,ypred_test))"
   ]
  },
  {
   "cell_type": "code",
   "execution_count": 56,
   "id": "d90f68e5",
   "metadata": {},
   "outputs": [
    {
     "name": "stdout",
     "output_type": "stream",
     "text": [
      "[1. 1. 1. 1. 1.]\n"
     ]
    },
    {
     "data": {
      "text/plain": [
       "1.0"
      ]
     },
     "execution_count": 56,
     "metadata": {},
     "output_type": "execute_result"
    }
   ],
   "source": [
    "# Cross Validation\n",
    "from sklearn.model_selection import cross_val_score  # cv score\n",
    "scores = cross_val_score(rf_model,x,y,cv=5)\n",
    "print(scores)\n",
    "scores.mean()"
   ]
  },
  {
   "cell_type": "code",
   "execution_count": 57,
   "id": "6ab47ded",
   "metadata": {},
   "outputs": [
    {
     "data": {
      "text/plain": [
       "array([3.65638487e-03, 1.29504843e-03, 8.71202478e-03, 1.72835008e-02,\n",
       "       3.29718711e-03, 6.94468764e-01, 2.94669796e-02, 1.09776238e-01,\n",
       "       4.28384046e-02, 8.89627879e-02, 1.61368016e-04, 8.13126303e-05])"
      ]
     },
     "execution_count": 57,
     "metadata": {},
     "output_type": "execute_result"
    }
   ],
   "source": [
    "rf_model.feature_importances_"
   ]
  },
  {
   "cell_type": "code",
   "execution_count": 58,
   "id": "a8e55403",
   "metadata": {},
   "outputs": [
    {
     "data": {
      "text/html": [
       "<div>\n",
       "<style scoped>\n",
       "    .dataframe tbody tr th:only-of-type {\n",
       "        vertical-align: middle;\n",
       "    }\n",
       "\n",
       "    .dataframe tbody tr th {\n",
       "        vertical-align: top;\n",
       "    }\n",
       "\n",
       "    .dataframe thead th {\n",
       "        text-align: right;\n",
       "    }\n",
       "</style>\n",
       "<table border=\"1\" class=\"dataframe\">\n",
       "  <thead>\n",
       "    <tr style=\"text-align: right;\">\n",
       "      <th></th>\n",
       "      <th>Feature Importance</th>\n",
       "    </tr>\n",
       "  </thead>\n",
       "  <tbody>\n",
       "    <tr>\n",
       "      <th>Air temperature [K]</th>\n",
       "      <td>0.003656</td>\n",
       "    </tr>\n",
       "    <tr>\n",
       "      <th>Process temperature [K]</th>\n",
       "      <td>0.001295</td>\n",
       "    </tr>\n",
       "    <tr>\n",
       "      <th>Rotational speed [rpm]</th>\n",
       "      <td>0.008712</td>\n",
       "    </tr>\n",
       "    <tr>\n",
       "      <th>Torque [Nm]</th>\n",
       "      <td>0.017284</td>\n",
       "    </tr>\n",
       "    <tr>\n",
       "      <th>Tool wear [min]</th>\n",
       "      <td>0.003297</td>\n",
       "    </tr>\n",
       "    <tr>\n",
       "      <th>Machine failure</th>\n",
       "      <td>0.694469</td>\n",
       "    </tr>\n",
       "    <tr>\n",
       "      <th>TWF</th>\n",
       "      <td>0.029467</td>\n",
       "    </tr>\n",
       "    <tr>\n",
       "      <th>HDF</th>\n",
       "      <td>0.109776</td>\n",
       "    </tr>\n",
       "    <tr>\n",
       "      <th>PWF</th>\n",
       "      <td>0.042838</td>\n",
       "    </tr>\n",
       "    <tr>\n",
       "      <th>OSF</th>\n",
       "      <td>0.088963</td>\n",
       "    </tr>\n",
       "    <tr>\n",
       "      <th>Type_L</th>\n",
       "      <td>0.000161</td>\n",
       "    </tr>\n",
       "    <tr>\n",
       "      <th>Type_M</th>\n",
       "      <td>0.000081</td>\n",
       "    </tr>\n",
       "  </tbody>\n",
       "</table>\n",
       "</div>"
      ],
      "text/plain": [
       "                         Feature Importance\n",
       "Air temperature [K]                0.003656\n",
       "Process temperature [K]            0.001295\n",
       "Rotational speed [rpm]             0.008712\n",
       "Torque [Nm]                        0.017284\n",
       "Tool wear [min]                    0.003297\n",
       "Machine failure                    0.694469\n",
       "TWF                                0.029467\n",
       "HDF                                0.109776\n",
       "PWF                                0.042838\n",
       "OSF                                0.088963\n",
       "Type_L                             0.000161\n",
       "Type_M                             0.000081"
      ]
     },
     "execution_count": 58,
     "metadata": {},
     "output_type": "execute_result"
    }
   ],
   "source": [
    "pd.DataFrame(index=x.columns,data=rf_model.feature_importances_,columns=['Feature Importance' ])"
   ]
  },
  {
   "cell_type": "code",
   "execution_count": 59,
   "id": "3be3cfb1",
   "metadata": {},
   "outputs": [
    {
     "data": {
      "text/plain": [
       "{'n_estimators': 1}"
      ]
     },
     "execution_count": 59,
     "metadata": {},
     "output_type": "execute_result"
    }
   ],
   "source": [
    "from sklearn.model_selection import GridSearchCV\n",
    "\n",
    "estimator = RandomForestClassifier(random_state=9)\n",
    "\n",
    "param_grid = {'n_estimators':list(range(1,20))}\n",
    "\n",
    "grid = GridSearchCV(estimator,param_grid,cv=5)\n",
    "\n",
    "grid.fit(x_train,y_train)\n",
    "\n",
    "grid.best_params_"
   ]
  },
  {
   "cell_type": "markdown",
   "id": "66e7ec91",
   "metadata": {},
   "source": [
    "# Random forest model with best hyper parameter"
   ]
  },
  {
   "cell_type": "code",
   "execution_count": 60,
   "id": "45438fab",
   "metadata": {},
   "outputs": [],
   "source": [
    "x = df_train.drop([\"RNF\",\"Machine failure\"],axis=1)\n",
    "x_train,x_test,y_train,y_test = train_test_split(x,y,test_size=0.2,random_state=9)  "
   ]
  },
  {
   "cell_type": "code",
   "execution_count": 61,
   "id": "a875caa5",
   "metadata": {},
   "outputs": [
    {
     "data": {
      "text/plain": [
       "RandomForestClassifier(n_estimators=10, random_state=9)"
      ]
     },
     "execution_count": 61,
     "metadata": {},
     "output_type": "execute_result"
    }
   ],
   "source": [
    "bestrf_model = RandomForestClassifier( n_estimators=10,random_state=9)\n",
    "bestrf_model.fit(x_train,y_train)"
   ]
  },
  {
   "cell_type": "code",
   "execution_count": 62,
   "id": "bf2fc392",
   "metadata": {},
   "outputs": [],
   "source": [
    "ypred_train= bestrf_model.predict(x_train)\n",
    "ypred_test = bestrf_model.predict (x_test)"
   ]
  },
  {
   "cell_type": "code",
   "execution_count": 63,
   "id": "a8f78bf6",
   "metadata": {},
   "outputs": [
    {
     "name": "stdout",
     "output_type": "stream",
     "text": [
      "train accuracy 0.9990562839577435\n",
      "test accuracy 0.9968115517115004\n"
     ]
    }
   ],
   "source": [
    "# accuracy \n",
    "# Evalution\n",
    "print(\"train accuracy\",accuracy_score(y_train,ypred_train))\n",
    "print(\"test accuracy\",accuracy_score(y_test,ypred_test))"
   ]
  },
  {
   "cell_type": "code",
   "execution_count": 64,
   "id": "6f2dd991",
   "metadata": {},
   "outputs": [
    {
     "name": "stdout",
     "output_type": "stream",
     "text": [
      "[0.99618852 0.99629847 0.99607858 0.99604193 0.99505223]\n"
     ]
    },
    {
     "data": {
      "text/plain": [
       "0.9959319435038225"
      ]
     },
     "execution_count": 64,
     "metadata": {},
     "output_type": "execute_result"
    }
   ],
   "source": [
    "scores = cross_val_score(bestrf_model,x,y,cv=5)\n",
    "print(scores)\n",
    "scores.mean()"
   ]
  },
  {
   "cell_type": "code",
   "execution_count": 65,
   "id": "6ecfde1b",
   "metadata": {},
   "outputs": [
    {
     "data": {
      "text/html": [
       "<div>\n",
       "<style scoped>\n",
       "    .dataframe tbody tr th:only-of-type {\n",
       "        vertical-align: middle;\n",
       "    }\n",
       "\n",
       "    .dataframe tbody tr th {\n",
       "        vertical-align: top;\n",
       "    }\n",
       "\n",
       "    .dataframe thead th {\n",
       "        text-align: right;\n",
       "    }\n",
       "</style>\n",
       "<table border=\"1\" class=\"dataframe\">\n",
       "  <thead>\n",
       "    <tr style=\"text-align: right;\">\n",
       "      <th></th>\n",
       "      <th>Air temperature [K]</th>\n",
       "      <th>Process temperature [K]</th>\n",
       "      <th>Rotational speed [rpm]</th>\n",
       "      <th>Torque [Nm]</th>\n",
       "      <th>Tool wear [min]</th>\n",
       "      <th>TWF</th>\n",
       "      <th>HDF</th>\n",
       "      <th>PWF</th>\n",
       "      <th>OSF</th>\n",
       "      <th>Type_L</th>\n",
       "      <th>Type_M</th>\n",
       "    </tr>\n",
       "  </thead>\n",
       "  <tbody>\n",
       "    <tr>\n",
       "      <th>0</th>\n",
       "      <td>300.6</td>\n",
       "      <td>309.6</td>\n",
       "      <td>1596</td>\n",
       "      <td>36.1</td>\n",
       "      <td>140</td>\n",
       "      <td>0</td>\n",
       "      <td>0</td>\n",
       "      <td>0</td>\n",
       "      <td>0</td>\n",
       "      <td>1</td>\n",
       "      <td>0</td>\n",
       "    </tr>\n",
       "    <tr>\n",
       "      <th>1</th>\n",
       "      <td>302.6</td>\n",
       "      <td>312.1</td>\n",
       "      <td>1759</td>\n",
       "      <td>29.1</td>\n",
       "      <td>200</td>\n",
       "      <td>0</td>\n",
       "      <td>0</td>\n",
       "      <td>0</td>\n",
       "      <td>0</td>\n",
       "      <td>0</td>\n",
       "      <td>1</td>\n",
       "    </tr>\n",
       "    <tr>\n",
       "      <th>2</th>\n",
       "      <td>299.3</td>\n",
       "      <td>308.5</td>\n",
       "      <td>1805</td>\n",
       "      <td>26.5</td>\n",
       "      <td>25</td>\n",
       "      <td>0</td>\n",
       "      <td>0</td>\n",
       "      <td>0</td>\n",
       "      <td>0</td>\n",
       "      <td>1</td>\n",
       "      <td>0</td>\n",
       "    </tr>\n",
       "    <tr>\n",
       "      <th>3</th>\n",
       "      <td>301.0</td>\n",
       "      <td>310.9</td>\n",
       "      <td>1524</td>\n",
       "      <td>44.3</td>\n",
       "      <td>197</td>\n",
       "      <td>0</td>\n",
       "      <td>0</td>\n",
       "      <td>0</td>\n",
       "      <td>0</td>\n",
       "      <td>1</td>\n",
       "      <td>0</td>\n",
       "    </tr>\n",
       "    <tr>\n",
       "      <th>4</th>\n",
       "      <td>298.0</td>\n",
       "      <td>309.0</td>\n",
       "      <td>1641</td>\n",
       "      <td>35.4</td>\n",
       "      <td>34</td>\n",
       "      <td>0</td>\n",
       "      <td>0</td>\n",
       "      <td>0</td>\n",
       "      <td>0</td>\n",
       "      <td>0</td>\n",
       "      <td>1</td>\n",
       "    </tr>\n",
       "    <tr>\n",
       "      <th>...</th>\n",
       "      <td>...</td>\n",
       "      <td>...</td>\n",
       "      <td>...</td>\n",
       "      <td>...</td>\n",
       "      <td>...</td>\n",
       "      <td>...</td>\n",
       "      <td>...</td>\n",
       "      <td>...</td>\n",
       "      <td>...</td>\n",
       "      <td>...</td>\n",
       "      <td>...</td>\n",
       "    </tr>\n",
       "    <tr>\n",
       "      <th>136424</th>\n",
       "      <td>300.1</td>\n",
       "      <td>311.4</td>\n",
       "      <td>1530</td>\n",
       "      <td>37.5</td>\n",
       "      <td>210</td>\n",
       "      <td>0</td>\n",
       "      <td>0</td>\n",
       "      <td>0</td>\n",
       "      <td>0</td>\n",
       "      <td>0</td>\n",
       "      <td>1</td>\n",
       "    </tr>\n",
       "    <tr>\n",
       "      <th>136425</th>\n",
       "      <td>297.5</td>\n",
       "      <td>308.5</td>\n",
       "      <td>1447</td>\n",
       "      <td>49.1</td>\n",
       "      <td>2</td>\n",
       "      <td>0</td>\n",
       "      <td>0</td>\n",
       "      <td>0</td>\n",
       "      <td>0</td>\n",
       "      <td>0</td>\n",
       "      <td>0</td>\n",
       "    </tr>\n",
       "    <tr>\n",
       "      <th>136426</th>\n",
       "      <td>300.5</td>\n",
       "      <td>311.8</td>\n",
       "      <td>1524</td>\n",
       "      <td>38.5</td>\n",
       "      <td>214</td>\n",
       "      <td>0</td>\n",
       "      <td>0</td>\n",
       "      <td>0</td>\n",
       "      <td>0</td>\n",
       "      <td>1</td>\n",
       "      <td>0</td>\n",
       "    </tr>\n",
       "    <tr>\n",
       "      <th>136427</th>\n",
       "      <td>301.7</td>\n",
       "      <td>310.9</td>\n",
       "      <td>1447</td>\n",
       "      <td>46.3</td>\n",
       "      <td>42</td>\n",
       "      <td>0</td>\n",
       "      <td>0</td>\n",
       "      <td>0</td>\n",
       "      <td>0</td>\n",
       "      <td>1</td>\n",
       "      <td>0</td>\n",
       "    </tr>\n",
       "    <tr>\n",
       "      <th>136428</th>\n",
       "      <td>296.9</td>\n",
       "      <td>308.1</td>\n",
       "      <td>1557</td>\n",
       "      <td>39.3</td>\n",
       "      <td>229</td>\n",
       "      <td>0</td>\n",
       "      <td>0</td>\n",
       "      <td>0</td>\n",
       "      <td>0</td>\n",
       "      <td>1</td>\n",
       "      <td>0</td>\n",
       "    </tr>\n",
       "  </tbody>\n",
       "</table>\n",
       "<p>136429 rows × 11 columns</p>\n",
       "</div>"
      ],
      "text/plain": [
       "        Air temperature [K]  Process temperature [K]  Rotational speed [rpm]  \\\n",
       "0                     300.6                    309.6                    1596   \n",
       "1                     302.6                    312.1                    1759   \n",
       "2                     299.3                    308.5                    1805   \n",
       "3                     301.0                    310.9                    1524   \n",
       "4                     298.0                    309.0                    1641   \n",
       "...                     ...                      ...                     ...   \n",
       "136424                300.1                    311.4                    1530   \n",
       "136425                297.5                    308.5                    1447   \n",
       "136426                300.5                    311.8                    1524   \n",
       "136427                301.7                    310.9                    1447   \n",
       "136428                296.9                    308.1                    1557   \n",
       "\n",
       "        Torque [Nm]  Tool wear [min]  TWF  HDF  PWF  OSF  Type_L  Type_M  \n",
       "0              36.1              140    0    0    0    0       1       0  \n",
       "1              29.1              200    0    0    0    0       0       1  \n",
       "2              26.5               25    0    0    0    0       1       0  \n",
       "3              44.3              197    0    0    0    0       1       0  \n",
       "4              35.4               34    0    0    0    0       0       1  \n",
       "...             ...              ...  ...  ...  ...  ...     ...     ...  \n",
       "136424         37.5              210    0    0    0    0       0       1  \n",
       "136425         49.1                2    0    0    0    0       0       0  \n",
       "136426         38.5              214    0    0    0    0       1       0  \n",
       "136427         46.3               42    0    0    0    0       1       0  \n",
       "136428         39.3              229    0    0    0    0       1       0  \n",
       "\n",
       "[136429 rows x 11 columns]"
      ]
     },
     "execution_count": 65,
     "metadata": {},
     "output_type": "execute_result"
    }
   ],
   "source": [
    "x"
   ]
  },
  {
   "cell_type": "code",
   "execution_count": 66,
   "id": "11ca88b7",
   "metadata": {},
   "outputs": [],
   "source": [
    "# yacaht nusta machine failure cha column yet ahe yala consider nahi karacha new project manun jupiter file ahe tyacht seprate\n",
    "# random forest run kela ahe . kernal la old data dila mi aata barobar ans aala jar test accuracy 1 yet ahe kernal\n",
    "# survatiche sale run kara . aata yala old data dyacha always\n"
   ]
  },
  {
   "cell_type": "markdown",
   "id": "a0579bac",
   "metadata": {},
   "source": [
    "# Ada Boost"
   ]
  },
  {
   "cell_type": "code",
   "execution_count": 67,
   "id": "f2688366",
   "metadata": {},
   "outputs": [],
   "source": [
    "from sklearn.ensemble import AdaBoostClassifier\n",
    "ab_model = AdaBoostClassifier()\n",
    "ab_model.fit(x_train,y_train)"
   ]
  },
  {
   "cell_type": "code",
   "execution_count": 68,
   "id": "89dab47b",
   "metadata": {},
   "outputs": [],
   "source": [
    "ypred_train= ab_model.predict(x_train)\n",
    "ypred_test = ab_model.predict(x_test)"
   ]
  },
  {
   "cell_type": "code",
   "execution_count": 69,
   "id": "309ba6ef",
   "metadata": {},
   "outputs": [],
   "source": [
    " #accuracy \n",
    " #Evalution\n",
    "from sklearn.metrics import accuracy_score\n",
    "print(\"train accuracy\",accuracy_score(y_train,ypred_train))\n",
    "print(\"test accuracy\",accuracy_score(y_test,ypred_test))"
   ]
  },
  {
   "cell_type": "code",
   "execution_count": 70,
   "id": "d947ce20",
   "metadata": {},
   "outputs": [],
   "source": [
    "# Cross Validation\n",
    "from sklearn.model_selection import cross_val_score  # cv score\n",
    "scores = cross_val_score(ab_model,x,y,cv=5)\n",
    "print(scores)\n",
    "scores.mean()"
   ]
  },
  {
   "cell_type": "markdown",
   "id": "01d21c60",
   "metadata": {},
   "source": [
    "# AdaBoost hyper parameters "
   ]
  },
  {
   "cell_type": "code",
   "execution_count": 71,
   "id": "2a1d04b0",
   "metadata": {},
   "outputs": [],
   "source": [
    " from sklearn.model_selection import GridSearchCV\n",
    "\n",
    "estimator = AdaBoostClassifier(random_state=9)\n",
    "\n",
    "param_grid = {'n_estimators':list(range(1,11))}\n",
    "\n",
    "grid = GridSearchCV(estimator,param_grid,cv=5,scoring=\"accuracy\")\n",
    "\n",
    "grid.fit(x_train,y_train)\n",
    "\n",
    "grid.best_params_"
   ]
  },
  {
   "cell_type": "code",
   "execution_count": 72,
   "id": "9d98f285",
   "metadata": {},
   "outputs": [],
   "source": [
    "ab_model.feature_importances_"
   ]
  },
  {
   "cell_type": "code",
   "execution_count": 73,
   "id": "734ca96a",
   "metadata": {},
   "outputs": [],
   "source": [
    "pd.DataFrame(index=x.columns,data=ab_model.feature_importances_,columns=['Feature Importance'])"
   ]
  },
  {
   "cell_type": "code",
   "execution_count": 74,
   "id": "363cfa95",
   "metadata": {},
   "outputs": [],
   "source": [
    "grid.best_estimator_.feature_importances_"
   ]
  },
  {
   "cell_type": "code",
   "execution_count": 75,
   "id": "98871da1",
   "metadata": {},
   "outputs": [],
   "source": [
    "feats = pd.DataFrame(data=grid.best_estimator_.feature_importances_,\n",
    "                    # index=x.columns,\n",
    "                    #columns=['importance'])"
   ]
  },
  {
   "cell_type": "code",
   "execution_count": 76,
   "id": "53ecf9c7",
   "metadata": {},
   "outputs": [],
   "source": [
    "important_features = feats[feats['importance']>0.01]\n",
    "important_features"
   ]
  },
  {
   "cell_type": "code",
   "execution_count": 77,
   "id": "a3af6779",
   "metadata": {},
   "outputs": [],
   "source": [
    "important_features = feats[feats['importance']>0.01].index.to_list() # list madhe convert kela mi ,karan dataframe la list\n",
    "                                                                     # lagate"
   ]
  },
  {
   "cell_type": "markdown",
   "id": "0b3d7941",
   "metadata": {},
   "source": [
    "# Adaboost with best hyperparameter"
   ]
  },
  {
   "cell_type": "code",
   "execution_count": 78,
   "id": "bfdd428b",
   "metadata": {},
   "outputs": [],
   "source": [
    "x_imp = x[important_features]\n",
    "y = df_train['Machine failure']"
   ]
  },
  {
   "cell_type": "code",
   "execution_count": 79,
   "id": "e6b0605b",
   "metadata": {},
   "outputs": [],
   "source": [
    "x_imp "
   ]
  },
  {
   "cell_type": "code",
   "execution_count": 80,
   "id": "8ef3ade8",
   "metadata": {},
   "outputs": [],
   "source": [
    "y"
   ]
  },
  {
   "cell_type": "code",
   "execution_count": 81,
   "id": "28f9d62a",
   "metadata": {},
   "outputs": [],
   "source": [
    "# Train & Test Split\n",
    "from sklearn.model_selection import train_test_split\n",
    "x_train,x_test,y_train,y_test = train_test_split(x,y,test_size=0.2,random_state=9)"
   ]
  },
  {
   "cell_type": "code",
   "execution_count": 82,
   "id": "6f843763",
   "metadata": {},
   "outputs": [],
   "source": [
    "bestab_model = AdaBoostClassifier(n_estimators=50)\n",
    "bestab_model.fit(x_train,y_train)"
   ]
  },
  {
   "cell_type": "code",
   "execution_count": 83,
   "id": "9f6ff549",
   "metadata": {},
   "outputs": [],
   "source": [
    "ypred_train= bestrf_model.predict(x_train)\n",
    "ypred_test = bestrf_model.predict (x_test)"
   ]
  },
  {
   "cell_type": "code",
   "execution_count": 84,
   "id": "69dff6ff",
   "metadata": {},
   "outputs": [],
   "source": [
    "# accuracy \n",
    "# Evalution\n",
    "print(\"train accuracy\",accuracy_score(y_train,ypred_train))\n",
    "print(\"test accuracy\",accuracy_score(y_test,ypred_test))"
   ]
  },
  {
   "cell_type": "code",
   "execution_count": 85,
   "id": "d5057895",
   "metadata": {},
   "outputs": [],
   "source": [
    "scores = cross_val_score(bestab_model,x,y,cv=5)\n",
    "print(scores)\n",
    "scores.mean()"
   ]
  },
  {
   "cell_type": "markdown",
   "id": "7c26c324",
   "metadata": {},
   "source": [
    "# Gradient Boost"
   ]
  },
  {
   "cell_type": "code",
   "execution_count": null,
   "id": "8296b316",
   "metadata": {},
   "outputs": [],
   "source": [
    "from sklearn.ensemble import GradientBoostingClassifier\n",
    "gb_model = GradientBoostingClassifier()\n",
    "gb_model.fit(x_train,y_train)"
   ]
  },
  {
   "cell_type": "code",
   "execution_count": null,
   "id": "8bd8855b",
   "metadata": {},
   "outputs": [],
   "source": [
    "ypred_train= gb_model.predict(x_train)\n",
    "ypred_test = gb_model.predict(x_test)"
   ]
  },
  {
   "cell_type": "code",
   "execution_count": null,
   "id": "09a8ba42",
   "metadata": {},
   "outputs": [],
   "source": [
    "# accuracy \n",
    "# Evalution\n",
    "from sklearn.metrics import accuracy_score\n",
    "print(\"train accuracy\",accuracy_score(y_train,ypred_train))\n",
    "print(\"test accuracy\",accuracy_score(y_test,ypred_test))"
   ]
  },
  {
   "cell_type": "code",
   "execution_count": null,
   "id": "bd6c78b6",
   "metadata": {},
   "outputs": [],
   "source": [
    "# Cross Validation\n",
    "from sklearn.model_selection import cross_val_score  # cv score\n",
    "scores = cross_val_score(gb_model,x,y,cv=5)\n",
    "print(scores)\n",
    "scores.mean()"
   ]
  },
  {
   "cell_type": "markdown",
   "id": "ec8d86c7",
   "metadata": {},
   "source": [
    "# Gradient Boost with best hyperparameter"
   ]
  },
  {
   "cell_type": "code",
   "execution_count": null,
   "id": "205e8f58",
   "metadata": {},
   "outputs": [],
   "source": [
    "# Hyperparameter Tuning For Gradiant Boost Classifier\n",
    "from sklearn.model_selection import GridSearchCV\n",
    "#model\n",
    "estimator = GradientBoostingClassifier()\n",
    "# parameters $ values\n",
    "param_grid = {\"n_estimators\":[1,100],\n",
    "               \"learning_rate\":[0.1,0.3]}\n",
    "# Identifying the best value of the parameter within given values for the given data\n",
    "grid = GridSearchCV(estimator,param_grid,cv=5,scoring='accuracy')\n",
    "grid.fit(x_train,y_train)\n",
    "grid.best_params_"
   ]
  },
  {
   "cell_type": "code",
   "execution_count": null,
   "id": "5e6739bd",
   "metadata": {},
   "outputs": [],
   "source": [
    "grid.best_estimator_.feature_importances_"
   ]
  },
  {
   "cell_type": "code",
   "execution_count": null,
   "id": "ec522a01",
   "metadata": {},
   "outputs": [],
   "source": [
    "feats = pd.DataFrame(data=grid.best_estimator_.feature_importances_,\n",
    "                     index=x.columns,\n",
    "                    columns=['importance'])"
   ]
  },
  {
   "cell_type": "code",
   "execution_count": null,
   "id": "c69b55f3",
   "metadata": {},
   "outputs": [],
   "source": [
    "important_features = feats[feats['importance']>0.01]\n",
    "important_features"
   ]
  },
  {
   "cell_type": "code",
   "execution_count": 86,
   "id": "1136fc6f",
   "metadata": {},
   "outputs": [],
   "source": [
    "\n",
    "important_features = feats[feats['importance']>0.01].index.to_list() \n",
    "important_features"
   ]
  },
  {
   "cell_type": "markdown",
   "id": "ca456192",
   "metadata": {},
   "source": [
    "# Gradient boost with best parameters "
   ]
  },
  {
   "cell_type": "code",
   "execution_count": null,
   "id": "c9d950c0",
   "metadata": {},
   "outputs": [],
   "source": [
    "#x_imp = x[important_features]       # simple we drop unimportant parameters\n",
    "#y = df_train['Machine failure']"
   ]
  },
  {
   "cell_type": "code",
   "execution_count": null,
   "id": "28ed75e3",
   "metadata": {},
   "outputs": [],
   "source": [
    "x_imp"
   ]
  },
  {
   "cell_type": "code",
   "execution_count": 87,
   "id": "88d3f10b",
   "metadata": {},
   "outputs": [],
   "source": [
    "y "
   ]
  },
  {
   "cell_type": "code",
   "execution_count": null,
   "id": "55e9a9f4",
   "metadata": {},
   "outputs": [],
   "source": [
    "bestgb_model = GradientBoostingClassifier()\n",
    "bestgb_model.fit(x_train,y_train)"
   ]
  },
  {
   "cell_type": "code",
   "execution_count": null,
   "id": "eedcc141",
   "metadata": {},
   "outputs": [],
   "source": [
    "ypred_train= bestgb_model.predict(x_train)\n",
    "ypred_test = bestgb_model.predict(x_test)"
   ]
  },
  {
   "cell_type": "code",
   "execution_count": null,
   "id": "f33ff816",
   "metadata": {},
   "outputs": [],
   "source": [
    "# accuracy \n",
    "# Evalution\n",
    "from sklearn.metrics import accuracy_score\n",
    "print(\"train accuracy\",accuracy_score(y_train,ypred_train))\n",
    "print(\"test accuracy\",accuracy_score(y_test,ypred_test))"
   ]
  },
  {
   "cell_type": "code",
   "execution_count": null,
   "id": "a943a259",
   "metadata": {},
   "outputs": [],
   "source": [
    "# Cross Validation\n",
    "from sklearn.model_selection import cross_val_score  # cv score\n",
    "scores = cross_val_score(bestgb_model,x,y,cv=5)\n",
    "print(scores)\n",
    "scores.mean()"
   ]
  },
  {
   "cell_type": "markdown",
   "id": "715cb892",
   "metadata": {},
   "source": [
    "# XG Boost"
   ]
  },
  {
   "cell_type": "code",
   "execution_count": 88,
   "id": "f654d335",
   "metadata": {},
   "outputs": [],
   "source": [
    "# pip install xgboost"
   ]
  },
  {
   "cell_type": "markdown",
   "id": "6332386d",
   "metadata": {},
   "source": [
    "# XG boost model with default parameters"
   ]
  },
  {
   "cell_type": "code",
   "execution_count": null,
   "id": "cc5b3a48",
   "metadata": {},
   "outputs": [],
   "source": [
    "x = df_train.drop(\"Machine failure\",axis=1)\n",
    "y = df_train['Machine failure']"
   ]
  },
  {
   "cell_type": "code",
   "execution_count": null,
   "id": "7ab2fc90",
   "metadata": {},
   "outputs": [],
   "source": [
    "x=np.array( df_train.drop(\"Machine failure\",axis=1))  # x aapla data frame madhe hota aapla la array kiva list madhe\n",
    "                                                      # x pahije hota CV SCORE SATHI"
   ]
  },
  {
   "cell_type": "code",
   "execution_count": null,
   "id": "7ae41fa1",
   "metadata": {},
   "outputs": [],
   "source": [
    "x"
   ]
  },
  {
   "cell_type": "code",
   "execution_count": null,
   "id": "4ec0fa50",
   "metadata": {},
   "outputs": [],
   "source": [
    "x.values.tolist() Data frame la list madhe convert karasathi.\n"
   ]
  },
  {
   "cell_type": "code",
   "execution_count": null,
   "id": "f8b88b40",
   "metadata": {},
   "outputs": [],
   "source": [
    "from xgboost import XGBClassifier\n",
    "xgb_model = XGBClassifier()\n",
    "xgb_model.fit(x_train,y_train)"
   ]
  },
  {
   "cell_type": "code",
   "execution_count": null,
   "id": "53789567",
   "metadata": {},
   "outputs": [],
   "source": [
    "ypred_train= xgb_model.predict(x_train)\n",
    "ypred_test = xgb_model.predict(x_test)"
   ]
  },
  {
   "cell_type": "code",
   "execution_count": null,
   "id": "809a48b2",
   "metadata": {},
   "outputs": [],
   "source": [
    "# accuracy \n",
    "# Evalution\n",
    "from sklearn.metrics import accuracy_score\n",
    "print(\"train accuracy\",accuracy_score(y_train,ypred_train))\n",
    "print(\"test accuracy\",accuracy_score(y_test,ypred_test))"
   ]
  },
  {
   "cell_type": "code",
   "execution_count": null,
   "id": "5bbfefaf",
   "metadata": {},
   "outputs": [],
   "source": [
    "# Cross Validation\n",
    "from sklearn.model_selection import cross_val_score  # cv score\n",
    "scores= cross_val_score(estimator = xgb_model, X=x , y=y , cv=5)\n",
    "print(\"Cross Validation Score:\",scores.mean())\n"
   ]
  },
  {
   "cell_type": "code",
   "execution_count": null,
   "id": "27a3f965",
   "metadata": {},
   "outputs": [],
   "source": [
    "# Cross Validation\n",
    "from sklearn.model_selection import cross_val_score  # cv score\n",
    "scores= cross_val_score(estimator = xgb_model, X=x , y=y , cv=5) # X ha aaplya la capital ch pahije.chota x ha variable ahe. \n",
    "print(\"Cross Validation Score:\",scores.mean())\n"
   ]
  },
  {
   "cell_type": "code",
   "execution_count": 89,
   "id": "a4491fd5",
   "metadata": {},
   "outputs": [],
   "source": [
    "# Varaiable x cha purna explination new project madhe dila ahe . "
   ]
  },
  {
   "cell_type": "markdown",
   "id": "277e259c",
   "metadata": {},
   "source": [
    "# XG Boost with Hperparameter"
   ]
  },
  {
   "cell_type": "code",
   "execution_count": null,
   "id": "451072d6",
   "metadata": {},
   "outputs": [],
   "source": [
    "# Hyperparameter Tuning For Gradiant Boost Classifier\n",
    "from sklearn.model_selection import GridSearchCV\n",
    "#model\n",
    "estimator = XGBClassifier()\n",
    "# parameters $ values\n",
    "param_grid = {\"n_estimators\":[10,20,40,100],\n",
    "               \"max_depth\":[3,4,5],\n",
    "                \"gamma\":[0,0.15,0.3,0.5,1]}\n",
    "# Identifying the best value of the parameter within given values for the given data\n",
    "grid = GridSearchCV(xgb_model,param_grid,cv=5,scoring='accuracy')\n",
    "grid.fit(x_train,y_train)\n",
    "grid.best_params_"
   ]
  },
  {
   "cell_type": "code",
   "execution_count": null,
   "id": "9626e4ba",
   "metadata": {},
   "outputs": [],
   "source": [
    "grid.best_estimator_.feature_importances_"
   ]
  },
  {
   "cell_type": "code",
   "execution_count": null,
   "id": "7e29cbfc",
   "metadata": {},
   "outputs": [],
   "source": [
    "feats = pd.DataFrame(data=grid.best_estimator_.feature_importances_,\n",
    "                     index=x.columns,\n",
    "                    columns=['importance'])"
   ]
  },
  {
   "cell_type": "code",
   "execution_count": null,
   "id": "dcfb2238",
   "metadata": {},
   "outputs": [],
   "source": [
    "important_features = feats[feats['importance']>0.01]\n",
    "important_features"
   ]
  },
  {
   "cell_type": "code",
   "execution_count": 90,
   "id": "5d9f2b1d",
   "metadata": {},
   "outputs": [],
   "source": [
    "important_features = feats[feats['importance']>0.01].index.to_list() \n",
    "important_features"
   ]
  },
  {
   "cell_type": "markdown",
   "id": "6deed3db",
   "metadata": {},
   "source": [
    "# XGBoost with best parameters"
   ]
  },
  {
   "cell_type": "code",
   "execution_count": null,
   "id": "b6c5ae40",
   "metadata": {},
   "outputs": [],
   "source": [
    "x = x[important_features]       # simple we drop unimportant parameters\n",
    "y = df_train['Machine failure']"
   ]
  },
  {
   "cell_type": "code",
   "execution_count": null,
   "id": "81227042",
   "metadata": {},
   "outputs": [],
   "source": [
    "x_train,x_test,y_train,y_test = train_test_split(x,y,test_size=0.2,random_state=9)"
   ]
  },
  {
   "cell_type": "code",
   "execution_count": null,
   "id": "6798ea5e",
   "metadata": {},
   "outputs": [],
   "source": [
    "\n",
    "xgb_model = XGBClassifier()\n",
    "xgb_model.fit(x_train,y_train)"
   ]
  },
  {
   "cell_type": "code",
   "execution_count": 99,
   "id": "6cdc69bd",
   "metadata": {},
   "outputs": [],
   "source": [
    "# bestdt_model.predict([[df_test]])"
   ]
  },
  {
   "cell_type": "markdown",
   "id": "255263d8",
   "metadata": {},
   "source": [
    "# preprocessing\n"
   ]
  },
  {
   "cell_type": "code",
   "execution_count": 100,
   "id": "ec2c7702",
   "metadata": {},
   "outputs": [
    {
     "data": {
      "text/html": [
       "<div>\n",
       "<style scoped>\n",
       "    .dataframe tbody tr th:only-of-type {\n",
       "        vertical-align: middle;\n",
       "    }\n",
       "\n",
       "    .dataframe tbody tr th {\n",
       "        vertical-align: top;\n",
       "    }\n",
       "\n",
       "    .dataframe thead th {\n",
       "        text-align: right;\n",
       "    }\n",
       "</style>\n",
       "<table border=\"1\" class=\"dataframe\">\n",
       "  <thead>\n",
       "    <tr style=\"text-align: right;\">\n",
       "      <th></th>\n",
       "      <th>id</th>\n",
       "      <th>Product ID</th>\n",
       "      <th>Type</th>\n",
       "      <th>Air temperature [K]</th>\n",
       "      <th>Process temperature [K]</th>\n",
       "      <th>Rotational speed [rpm]</th>\n",
       "      <th>Torque [Nm]</th>\n",
       "      <th>Tool wear [min]</th>\n",
       "      <th>TWF</th>\n",
       "      <th>HDF</th>\n",
       "      <th>PWF</th>\n",
       "      <th>OSF</th>\n",
       "      <th>RNF</th>\n",
       "    </tr>\n",
       "  </thead>\n",
       "  <tbody>\n",
       "    <tr>\n",
       "      <th>0</th>\n",
       "      <td>136429</td>\n",
       "      <td>L50896</td>\n",
       "      <td>L</td>\n",
       "      <td>302.3</td>\n",
       "      <td>311.5</td>\n",
       "      <td>1499</td>\n",
       "      <td>38.0</td>\n",
       "      <td>60</td>\n",
       "      <td>0</td>\n",
       "      <td>0</td>\n",
       "      <td>0</td>\n",
       "      <td>0</td>\n",
       "      <td>0</td>\n",
       "    </tr>\n",
       "    <tr>\n",
       "      <th>1</th>\n",
       "      <td>136430</td>\n",
       "      <td>L53866</td>\n",
       "      <td>L</td>\n",
       "      <td>301.7</td>\n",
       "      <td>311.0</td>\n",
       "      <td>1713</td>\n",
       "      <td>28.8</td>\n",
       "      <td>17</td>\n",
       "      <td>0</td>\n",
       "      <td>0</td>\n",
       "      <td>0</td>\n",
       "      <td>0</td>\n",
       "      <td>0</td>\n",
       "    </tr>\n",
       "    <tr>\n",
       "      <th>2</th>\n",
       "      <td>136431</td>\n",
       "      <td>L50498</td>\n",
       "      <td>L</td>\n",
       "      <td>301.3</td>\n",
       "      <td>310.4</td>\n",
       "      <td>1525</td>\n",
       "      <td>37.7</td>\n",
       "      <td>96</td>\n",
       "      <td>0</td>\n",
       "      <td>0</td>\n",
       "      <td>0</td>\n",
       "      <td>0</td>\n",
       "      <td>0</td>\n",
       "    </tr>\n",
       "    <tr>\n",
       "      <th>3</th>\n",
       "      <td>136432</td>\n",
       "      <td>M21232</td>\n",
       "      <td>M</td>\n",
       "      <td>300.1</td>\n",
       "      <td>309.6</td>\n",
       "      <td>1479</td>\n",
       "      <td>47.6</td>\n",
       "      <td>5</td>\n",
       "      <td>0</td>\n",
       "      <td>0</td>\n",
       "      <td>0</td>\n",
       "      <td>0</td>\n",
       "      <td>0</td>\n",
       "    </tr>\n",
       "    <tr>\n",
       "      <th>4</th>\n",
       "      <td>136433</td>\n",
       "      <td>M19751</td>\n",
       "      <td>M</td>\n",
       "      <td>303.4</td>\n",
       "      <td>312.3</td>\n",
       "      <td>1515</td>\n",
       "      <td>41.3</td>\n",
       "      <td>114</td>\n",
       "      <td>0</td>\n",
       "      <td>0</td>\n",
       "      <td>0</td>\n",
       "      <td>0</td>\n",
       "      <td>0</td>\n",
       "    </tr>\n",
       "  </tbody>\n",
       "</table>\n",
       "</div>"
      ],
      "text/plain": [
       "       id Product ID Type  Air temperature [K]  Process temperature [K]  \\\n",
       "0  136429     L50896    L                302.3                    311.5   \n",
       "1  136430     L53866    L                301.7                    311.0   \n",
       "2  136431     L50498    L                301.3                    310.4   \n",
       "3  136432     M21232    M                300.1                    309.6   \n",
       "4  136433     M19751    M                303.4                    312.3   \n",
       "\n",
       "   Rotational speed [rpm]  Torque [Nm]  Tool wear [min]  TWF  HDF  PWF  OSF  \\\n",
       "0                    1499         38.0               60    0    0    0    0   \n",
       "1                    1713         28.8               17    0    0    0    0   \n",
       "2                    1525         37.7               96    0    0    0    0   \n",
       "3                    1479         47.6                5    0    0    0    0   \n",
       "4                    1515         41.3              114    0    0    0    0   \n",
       "\n",
       "   RNF  \n",
       "0    0  \n",
       "1    0  \n",
       "2    0  \n",
       "3    0  \n",
       "4    0  "
      ]
     },
     "execution_count": 100,
     "metadata": {},
     "output_type": "execute_result"
    }
   ],
   "source": [
    "df_test = pd.read_csv('E:\\\\CAPSTONE DATA SCIENCE PROJECTS\\\\KAGGLE DATA SET\\\\1\\\\test.csv')\n",
    "df_test.head()"
   ]
  },
  {
   "cell_type": "code",
   "execution_count": 101,
   "id": "cce04f56",
   "metadata": {},
   "outputs": [
    {
     "data": {
      "text/html": [
       "<div>\n",
       "<style scoped>\n",
       "    .dataframe tbody tr th:only-of-type {\n",
       "        vertical-align: middle;\n",
       "    }\n",
       "\n",
       "    .dataframe tbody tr th {\n",
       "        vertical-align: top;\n",
       "    }\n",
       "\n",
       "    .dataframe thead th {\n",
       "        text-align: right;\n",
       "    }\n",
       "</style>\n",
       "<table border=\"1\" class=\"dataframe\">\n",
       "  <thead>\n",
       "    <tr style=\"text-align: right;\">\n",
       "      <th></th>\n",
       "      <th>Type</th>\n",
       "      <th>Air temperature [K]</th>\n",
       "      <th>Process temperature [K]</th>\n",
       "      <th>Rotational speed [rpm]</th>\n",
       "      <th>Torque [Nm]</th>\n",
       "      <th>Tool wear [min]</th>\n",
       "      <th>TWF</th>\n",
       "      <th>HDF</th>\n",
       "      <th>PWF</th>\n",
       "      <th>OSF</th>\n",
       "      <th>RNF</th>\n",
       "    </tr>\n",
       "  </thead>\n",
       "  <tbody>\n",
       "    <tr>\n",
       "      <th>0</th>\n",
       "      <td>L</td>\n",
       "      <td>302.3</td>\n",
       "      <td>311.5</td>\n",
       "      <td>1499</td>\n",
       "      <td>38.0</td>\n",
       "      <td>60</td>\n",
       "      <td>0</td>\n",
       "      <td>0</td>\n",
       "      <td>0</td>\n",
       "      <td>0</td>\n",
       "      <td>0</td>\n",
       "    </tr>\n",
       "    <tr>\n",
       "      <th>1</th>\n",
       "      <td>L</td>\n",
       "      <td>301.7</td>\n",
       "      <td>311.0</td>\n",
       "      <td>1713</td>\n",
       "      <td>28.8</td>\n",
       "      <td>17</td>\n",
       "      <td>0</td>\n",
       "      <td>0</td>\n",
       "      <td>0</td>\n",
       "      <td>0</td>\n",
       "      <td>0</td>\n",
       "    </tr>\n",
       "    <tr>\n",
       "      <th>2</th>\n",
       "      <td>L</td>\n",
       "      <td>301.3</td>\n",
       "      <td>310.4</td>\n",
       "      <td>1525</td>\n",
       "      <td>37.7</td>\n",
       "      <td>96</td>\n",
       "      <td>0</td>\n",
       "      <td>0</td>\n",
       "      <td>0</td>\n",
       "      <td>0</td>\n",
       "      <td>0</td>\n",
       "    </tr>\n",
       "    <tr>\n",
       "      <th>3</th>\n",
       "      <td>M</td>\n",
       "      <td>300.1</td>\n",
       "      <td>309.6</td>\n",
       "      <td>1479</td>\n",
       "      <td>47.6</td>\n",
       "      <td>5</td>\n",
       "      <td>0</td>\n",
       "      <td>0</td>\n",
       "      <td>0</td>\n",
       "      <td>0</td>\n",
       "      <td>0</td>\n",
       "    </tr>\n",
       "    <tr>\n",
       "      <th>4</th>\n",
       "      <td>M</td>\n",
       "      <td>303.4</td>\n",
       "      <td>312.3</td>\n",
       "      <td>1515</td>\n",
       "      <td>41.3</td>\n",
       "      <td>114</td>\n",
       "      <td>0</td>\n",
       "      <td>0</td>\n",
       "      <td>0</td>\n",
       "      <td>0</td>\n",
       "      <td>0</td>\n",
       "    </tr>\n",
       "    <tr>\n",
       "      <th>...</th>\n",
       "      <td>...</td>\n",
       "      <td>...</td>\n",
       "      <td>...</td>\n",
       "      <td>...</td>\n",
       "      <td>...</td>\n",
       "      <td>...</td>\n",
       "      <td>...</td>\n",
       "      <td>...</td>\n",
       "      <td>...</td>\n",
       "      <td>...</td>\n",
       "      <td>...</td>\n",
       "    </tr>\n",
       "    <tr>\n",
       "      <th>90949</th>\n",
       "      <td>L</td>\n",
       "      <td>302.3</td>\n",
       "      <td>311.4</td>\n",
       "      <td>1484</td>\n",
       "      <td>40.4</td>\n",
       "      <td>15</td>\n",
       "      <td>0</td>\n",
       "      <td>0</td>\n",
       "      <td>0</td>\n",
       "      <td>0</td>\n",
       "      <td>0</td>\n",
       "    </tr>\n",
       "    <tr>\n",
       "      <th>90950</th>\n",
       "      <td>L</td>\n",
       "      <td>297.9</td>\n",
       "      <td>309.8</td>\n",
       "      <td>1542</td>\n",
       "      <td>33.8</td>\n",
       "      <td>31</td>\n",
       "      <td>0</td>\n",
       "      <td>0</td>\n",
       "      <td>0</td>\n",
       "      <td>0</td>\n",
       "      <td>0</td>\n",
       "    </tr>\n",
       "    <tr>\n",
       "      <th>90951</th>\n",
       "      <td>L</td>\n",
       "      <td>295.6</td>\n",
       "      <td>306.2</td>\n",
       "      <td>1501</td>\n",
       "      <td>41.4</td>\n",
       "      <td>187</td>\n",
       "      <td>0</td>\n",
       "      <td>0</td>\n",
       "      <td>0</td>\n",
       "      <td>0</td>\n",
       "      <td>0</td>\n",
       "    </tr>\n",
       "    <tr>\n",
       "      <th>90952</th>\n",
       "      <td>L</td>\n",
       "      <td>298.1</td>\n",
       "      <td>307.8</td>\n",
       "      <td>1534</td>\n",
       "      <td>40.3</td>\n",
       "      <td>69</td>\n",
       "      <td>0</td>\n",
       "      <td>0</td>\n",
       "      <td>0</td>\n",
       "      <td>0</td>\n",
       "      <td>0</td>\n",
       "    </tr>\n",
       "    <tr>\n",
       "      <th>90953</th>\n",
       "      <td>L</td>\n",
       "      <td>303.5</td>\n",
       "      <td>312.8</td>\n",
       "      <td>1534</td>\n",
       "      <td>36.1</td>\n",
       "      <td>92</td>\n",
       "      <td>0</td>\n",
       "      <td>0</td>\n",
       "      <td>0</td>\n",
       "      <td>0</td>\n",
       "      <td>0</td>\n",
       "    </tr>\n",
       "  </tbody>\n",
       "</table>\n",
       "<p>90954 rows × 11 columns</p>\n",
       "</div>"
      ],
      "text/plain": [
       "      Type  Air temperature [K]  Process temperature [K]  \\\n",
       "0        L                302.3                    311.5   \n",
       "1        L                301.7                    311.0   \n",
       "2        L                301.3                    310.4   \n",
       "3        M                300.1                    309.6   \n",
       "4        M                303.4                    312.3   \n",
       "...    ...                  ...                      ...   \n",
       "90949    L                302.3                    311.4   \n",
       "90950    L                297.9                    309.8   \n",
       "90951    L                295.6                    306.2   \n",
       "90952    L                298.1                    307.8   \n",
       "90953    L                303.5                    312.8   \n",
       "\n",
       "       Rotational speed [rpm]  Torque [Nm]  Tool wear [min]  TWF  HDF  PWF  \\\n",
       "0                        1499         38.0               60    0    0    0   \n",
       "1                        1713         28.8               17    0    0    0   \n",
       "2                        1525         37.7               96    0    0    0   \n",
       "3                        1479         47.6                5    0    0    0   \n",
       "4                        1515         41.3              114    0    0    0   \n",
       "...                       ...          ...              ...  ...  ...  ...   \n",
       "90949                    1484         40.4               15    0    0    0   \n",
       "90950                    1542         33.8               31    0    0    0   \n",
       "90951                    1501         41.4              187    0    0    0   \n",
       "90952                    1534         40.3               69    0    0    0   \n",
       "90953                    1534         36.1               92    0    0    0   \n",
       "\n",
       "       OSF  RNF  \n",
       "0        0    0  \n",
       "1        0    0  \n",
       "2        0    0  \n",
       "3        0    0  \n",
       "4        0    0  \n",
       "...    ...  ...  \n",
       "90949    0    0  \n",
       "90950    0    0  \n",
       "90951    0    0  \n",
       "90952    0    0  \n",
       "90953    0    0  \n",
       "\n",
       "[90954 rows x 11 columns]"
      ]
     },
     "execution_count": 101,
     "metadata": {},
     "output_type": "execute_result"
    }
   ],
   "source": [
    "df_test.drop(\"id\",axis=1,inplace=True)\n",
    "df_test.drop(\"Product ID\",axis=1,inplace=True)\n",
    "df_test"
   ]
  },
  {
   "cell_type": "code",
   "execution_count": 102,
   "id": "67d63060",
   "metadata": {},
   "outputs": [],
   "source": [
    "df_test = pd.get_dummies(df_test,drop_first=True)"
   ]
  },
  {
   "cell_type": "code",
   "execution_count": 103,
   "id": "7b434d1c",
   "metadata": {},
   "outputs": [
    {
     "data": {
      "text/html": [
       "<div>\n",
       "<style scoped>\n",
       "    .dataframe tbody tr th:only-of-type {\n",
       "        vertical-align: middle;\n",
       "    }\n",
       "\n",
       "    .dataframe tbody tr th {\n",
       "        vertical-align: top;\n",
       "    }\n",
       "\n",
       "    .dataframe thead th {\n",
       "        text-align: right;\n",
       "    }\n",
       "</style>\n",
       "<table border=\"1\" class=\"dataframe\">\n",
       "  <thead>\n",
       "    <tr style=\"text-align: right;\">\n",
       "      <th></th>\n",
       "      <th>Air temperature [K]</th>\n",
       "      <th>Process temperature [K]</th>\n",
       "      <th>Rotational speed [rpm]</th>\n",
       "      <th>Torque [Nm]</th>\n",
       "      <th>Tool wear [min]</th>\n",
       "      <th>TWF</th>\n",
       "      <th>HDF</th>\n",
       "      <th>PWF</th>\n",
       "      <th>OSF</th>\n",
       "      <th>RNF</th>\n",
       "      <th>Type_L</th>\n",
       "      <th>Type_M</th>\n",
       "    </tr>\n",
       "  </thead>\n",
       "  <tbody>\n",
       "    <tr>\n",
       "      <th>0</th>\n",
       "      <td>302.3</td>\n",
       "      <td>311.5</td>\n",
       "      <td>1499</td>\n",
       "      <td>38.0</td>\n",
       "      <td>60</td>\n",
       "      <td>0</td>\n",
       "      <td>0</td>\n",
       "      <td>0</td>\n",
       "      <td>0</td>\n",
       "      <td>0</td>\n",
       "      <td>1</td>\n",
       "      <td>0</td>\n",
       "    </tr>\n",
       "    <tr>\n",
       "      <th>1</th>\n",
       "      <td>301.7</td>\n",
       "      <td>311.0</td>\n",
       "      <td>1713</td>\n",
       "      <td>28.8</td>\n",
       "      <td>17</td>\n",
       "      <td>0</td>\n",
       "      <td>0</td>\n",
       "      <td>0</td>\n",
       "      <td>0</td>\n",
       "      <td>0</td>\n",
       "      <td>1</td>\n",
       "      <td>0</td>\n",
       "    </tr>\n",
       "    <tr>\n",
       "      <th>2</th>\n",
       "      <td>301.3</td>\n",
       "      <td>310.4</td>\n",
       "      <td>1525</td>\n",
       "      <td>37.7</td>\n",
       "      <td>96</td>\n",
       "      <td>0</td>\n",
       "      <td>0</td>\n",
       "      <td>0</td>\n",
       "      <td>0</td>\n",
       "      <td>0</td>\n",
       "      <td>1</td>\n",
       "      <td>0</td>\n",
       "    </tr>\n",
       "    <tr>\n",
       "      <th>3</th>\n",
       "      <td>300.1</td>\n",
       "      <td>309.6</td>\n",
       "      <td>1479</td>\n",
       "      <td>47.6</td>\n",
       "      <td>5</td>\n",
       "      <td>0</td>\n",
       "      <td>0</td>\n",
       "      <td>0</td>\n",
       "      <td>0</td>\n",
       "      <td>0</td>\n",
       "      <td>0</td>\n",
       "      <td>1</td>\n",
       "    </tr>\n",
       "    <tr>\n",
       "      <th>4</th>\n",
       "      <td>303.4</td>\n",
       "      <td>312.3</td>\n",
       "      <td>1515</td>\n",
       "      <td>41.3</td>\n",
       "      <td>114</td>\n",
       "      <td>0</td>\n",
       "      <td>0</td>\n",
       "      <td>0</td>\n",
       "      <td>0</td>\n",
       "      <td>0</td>\n",
       "      <td>0</td>\n",
       "      <td>1</td>\n",
       "    </tr>\n",
       "    <tr>\n",
       "      <th>...</th>\n",
       "      <td>...</td>\n",
       "      <td>...</td>\n",
       "      <td>...</td>\n",
       "      <td>...</td>\n",
       "      <td>...</td>\n",
       "      <td>...</td>\n",
       "      <td>...</td>\n",
       "      <td>...</td>\n",
       "      <td>...</td>\n",
       "      <td>...</td>\n",
       "      <td>...</td>\n",
       "      <td>...</td>\n",
       "    </tr>\n",
       "    <tr>\n",
       "      <th>90949</th>\n",
       "      <td>302.3</td>\n",
       "      <td>311.4</td>\n",
       "      <td>1484</td>\n",
       "      <td>40.4</td>\n",
       "      <td>15</td>\n",
       "      <td>0</td>\n",
       "      <td>0</td>\n",
       "      <td>0</td>\n",
       "      <td>0</td>\n",
       "      <td>0</td>\n",
       "      <td>1</td>\n",
       "      <td>0</td>\n",
       "    </tr>\n",
       "    <tr>\n",
       "      <th>90950</th>\n",
       "      <td>297.9</td>\n",
       "      <td>309.8</td>\n",
       "      <td>1542</td>\n",
       "      <td>33.8</td>\n",
       "      <td>31</td>\n",
       "      <td>0</td>\n",
       "      <td>0</td>\n",
       "      <td>0</td>\n",
       "      <td>0</td>\n",
       "      <td>0</td>\n",
       "      <td>1</td>\n",
       "      <td>0</td>\n",
       "    </tr>\n",
       "    <tr>\n",
       "      <th>90951</th>\n",
       "      <td>295.6</td>\n",
       "      <td>306.2</td>\n",
       "      <td>1501</td>\n",
       "      <td>41.4</td>\n",
       "      <td>187</td>\n",
       "      <td>0</td>\n",
       "      <td>0</td>\n",
       "      <td>0</td>\n",
       "      <td>0</td>\n",
       "      <td>0</td>\n",
       "      <td>1</td>\n",
       "      <td>0</td>\n",
       "    </tr>\n",
       "    <tr>\n",
       "      <th>90952</th>\n",
       "      <td>298.1</td>\n",
       "      <td>307.8</td>\n",
       "      <td>1534</td>\n",
       "      <td>40.3</td>\n",
       "      <td>69</td>\n",
       "      <td>0</td>\n",
       "      <td>0</td>\n",
       "      <td>0</td>\n",
       "      <td>0</td>\n",
       "      <td>0</td>\n",
       "      <td>1</td>\n",
       "      <td>0</td>\n",
       "    </tr>\n",
       "    <tr>\n",
       "      <th>90953</th>\n",
       "      <td>303.5</td>\n",
       "      <td>312.8</td>\n",
       "      <td>1534</td>\n",
       "      <td>36.1</td>\n",
       "      <td>92</td>\n",
       "      <td>0</td>\n",
       "      <td>0</td>\n",
       "      <td>0</td>\n",
       "      <td>0</td>\n",
       "      <td>0</td>\n",
       "      <td>1</td>\n",
       "      <td>0</td>\n",
       "    </tr>\n",
       "  </tbody>\n",
       "</table>\n",
       "<p>90954 rows × 12 columns</p>\n",
       "</div>"
      ],
      "text/plain": [
       "       Air temperature [K]  Process temperature [K]  Rotational speed [rpm]  \\\n",
       "0                    302.3                    311.5                    1499   \n",
       "1                    301.7                    311.0                    1713   \n",
       "2                    301.3                    310.4                    1525   \n",
       "3                    300.1                    309.6                    1479   \n",
       "4                    303.4                    312.3                    1515   \n",
       "...                    ...                      ...                     ...   \n",
       "90949                302.3                    311.4                    1484   \n",
       "90950                297.9                    309.8                    1542   \n",
       "90951                295.6                    306.2                    1501   \n",
       "90952                298.1                    307.8                    1534   \n",
       "90953                303.5                    312.8                    1534   \n",
       "\n",
       "       Torque [Nm]  Tool wear [min]  TWF  HDF  PWF  OSF  RNF  Type_L  Type_M  \n",
       "0             38.0               60    0    0    0    0    0       1       0  \n",
       "1             28.8               17    0    0    0    0    0       1       0  \n",
       "2             37.7               96    0    0    0    0    0       1       0  \n",
       "3             47.6                5    0    0    0    0    0       0       1  \n",
       "4             41.3              114    0    0    0    0    0       0       1  \n",
       "...            ...              ...  ...  ...  ...  ...  ...     ...     ...  \n",
       "90949         40.4               15    0    0    0    0    0       1       0  \n",
       "90950         33.8               31    0    0    0    0    0       1       0  \n",
       "90951         41.4              187    0    0    0    0    0       1       0  \n",
       "90952         40.3               69    0    0    0    0    0       1       0  \n",
       "90953         36.1               92    0    0    0    0    0       1       0  \n",
       "\n",
       "[90954 rows x 12 columns]"
      ]
     },
     "execution_count": 103,
     "metadata": {},
     "output_type": "execute_result"
    }
   ],
   "source": [
    "df_test"
   ]
  },
  {
   "cell_type": "code",
   "execution_count": 106,
   "id": "2cb54850",
   "metadata": {},
   "outputs": [],
   "source": [
    "x = df_test"
   ]
  },
  {
   "cell_type": "code",
   "execution_count": 107,
   "id": "6c572766",
   "metadata": {},
   "outputs": [],
   "source": [
    "# Scaling Data\n",
    "from sklearn.preprocessing import StandardScaler\n",
    "scaler = StandardScaler()\n",
    "x_test = scaler.fit_transform(x_test)"
   ]
  },
  {
   "cell_type": "code",
   "execution_count": 110,
   "id": "da327f18",
   "metadata": {},
   "outputs": [
    {
     "data": {
      "text/plain": [
       "array([0, 0, 0, ..., 0, 0, 0], dtype=int64)"
      ]
     },
     "execution_count": 110,
     "metadata": {},
     "output_type": "execute_result"
    }
   ],
   "source": [
    "yoyo=bestdt_model.predict(x)\n",
    "yoyo"
   ]
  },
  {
   "cell_type": "code",
   "execution_count": 111,
   "id": "f0f3cae2",
   "metadata": {},
   "outputs": [],
   "source": [
    "zoom = np.array(yoyo)"
   ]
  },
  {
   "cell_type": "code",
   "execution_count": 112,
   "id": "fda667b6",
   "metadata": {},
   "outputs": [],
   "source": [
    "df = pd.DataFrame(zoom)"
   ]
  },
  {
   "cell_type": "code",
   "execution_count": 114,
   "id": "d7ef3944",
   "metadata": {},
   "outputs": [],
   "source": [
    "df.to_csv(\"sample_submission.csv\")"
   ]
  },
  {
   "cell_type": "code",
   "execution_count": null,
   "id": "7973cd3e",
   "metadata": {},
   "outputs": [],
   "source": []
  },
  {
   "cell_type": "code",
   "execution_count": null,
   "id": "d6a968f5",
   "metadata": {},
   "outputs": [],
   "source": []
  },
  {
   "cell_type": "code",
   "execution_count": null,
   "id": "8b67388c",
   "metadata": {},
   "outputs": [],
   "source": []
  },
  {
   "cell_type": "code",
   "execution_count": null,
   "id": "855008e2",
   "metadata": {},
   "outputs": [],
   "source": []
  },
  {
   "cell_type": "code",
   "execution_count": null,
   "id": "f50dc842",
   "metadata": {},
   "outputs": [],
   "source": []
  },
  {
   "cell_type": "code",
   "execution_count": null,
   "id": "e60c76f7",
   "metadata": {},
   "outputs": [],
   "source": []
  }
 ],
 "metadata": {
  "kernelspec": {
   "display_name": "Python 3 (ipykernel)",
   "language": "python",
   "name": "python3"
  },
  "language_info": {
   "codemirror_mode": {
    "name": "ipython",
    "version": 3
   },
   "file_extension": ".py",
   "mimetype": "text/x-python",
   "name": "python",
   "nbconvert_exporter": "python",
   "pygments_lexer": "ipython3",
   "version": "3.9.12"
  }
 },
 "nbformat": 4,
 "nbformat_minor": 5
}
